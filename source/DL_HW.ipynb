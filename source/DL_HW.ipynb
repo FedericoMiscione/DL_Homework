{
  "cells": [
    {
      "cell_type": "code",
      "execution_count": 1,
      "metadata": {
        "colab": {
          "base_uri": "https://localhost:8080/"
        },
        "id": "xSkgt1zf-raF",
        "outputId": "c2e0f1bd-d2a8-4811-ad5f-0c03aae87aa4",
        "trusted": true
      },
      "outputs": [
        {
          "name": "stdout",
          "output_type": "stream",
          "text": [
            "Requirement already satisfied: torch_geometric in c:\\users\\fede6\\appdata\\local\\programs\\python\\python311\\lib\\site-packages (2.6.1)\n",
            "Requirement already satisfied: aiohttp in c:\\users\\fede6\\appdata\\local\\programs\\python\\python311\\lib\\site-packages (from torch_geometric) (3.11.18)\n",
            "Requirement already satisfied: fsspec in c:\\users\\fede6\\appdata\\local\\programs\\python\\python311\\lib\\site-packages (from torch_geometric) (2025.3.0)\n",
            "Requirement already satisfied: jinja2 in c:\\users\\fede6\\appdata\\local\\programs\\python\\python311\\lib\\site-packages (from torch_geometric) (3.1.6)\n",
            "Requirement already satisfied: numpy in c:\\users\\fede6\\appdata\\local\\programs\\python\\python311\\lib\\site-packages (from torch_geometric) (2.2.5)\n",
            "Requirement already satisfied: psutil>=5.8.0 in c:\\users\\fede6\\appdata\\local\\programs\\python\\python311\\lib\\site-packages (from torch_geometric) (7.0.0)\n",
            "Requirement already satisfied: pyparsing in c:\\users\\fede6\\appdata\\local\\programs\\python\\python311\\lib\\site-packages (from torch_geometric) (3.2.3)\n",
            "Requirement already satisfied: requests in c:\\users\\fede6\\appdata\\local\\programs\\python\\python311\\lib\\site-packages (from torch_geometric) (2.32.3)\n",
            "Requirement already satisfied: tqdm in c:\\users\\fede6\\appdata\\local\\programs\\python\\python311\\lib\\site-packages (from torch_geometric) (4.67.1)\n",
            "Requirement already satisfied: aiohappyeyeballs>=2.3.0 in c:\\users\\fede6\\appdata\\local\\programs\\python\\python311\\lib\\site-packages (from aiohttp->torch_geometric) (2.6.1)\n",
            "Requirement already satisfied: aiosignal>=1.1.2 in c:\\users\\fede6\\appdata\\local\\programs\\python\\python311\\lib\\site-packages (from aiohttp->torch_geometric) (1.3.2)\n",
            "Requirement already satisfied: attrs>=17.3.0 in c:\\users\\fede6\\appdata\\local\\programs\\python\\python311\\lib\\site-packages (from aiohttp->torch_geometric) (25.3.0)\n",
            "Requirement already satisfied: frozenlist>=1.1.1 in c:\\users\\fede6\\appdata\\local\\programs\\python\\python311\\lib\\site-packages (from aiohttp->torch_geometric) (1.6.0)\n",
            "Requirement already satisfied: multidict<7.0,>=4.5 in c:\\users\\fede6\\appdata\\local\\programs\\python\\python311\\lib\\site-packages (from aiohttp->torch_geometric) (6.4.3)\n",
            "Requirement already satisfied: propcache>=0.2.0 in c:\\users\\fede6\\appdata\\local\\programs\\python\\python311\\lib\\site-packages (from aiohttp->torch_geometric) (0.3.1)\n",
            "Requirement already satisfied: yarl<2.0,>=1.17.0 in c:\\users\\fede6\\appdata\\local\\programs\\python\\python311\\lib\\site-packages (from aiohttp->torch_geometric) (1.20.0)\n",
            "Requirement already satisfied: idna>=2.0 in c:\\users\\fede6\\appdata\\local\\programs\\python\\python311\\lib\\site-packages (from yarl<2.0,>=1.17.0->aiohttp->torch_geometric) (3.10)\n",
            "Requirement already satisfied: MarkupSafe>=2.0 in c:\\users\\fede6\\appdata\\local\\programs\\python\\python311\\lib\\site-packages (from jinja2->torch_geometric) (3.0.2)\n",
            "Requirement already satisfied: charset-normalizer<4,>=2 in c:\\users\\fede6\\appdata\\local\\programs\\python\\python311\\lib\\site-packages (from requests->torch_geometric) (3.4.2)\n",
            "Requirement already satisfied: urllib3<3,>=1.21.1 in c:\\users\\fede6\\appdata\\local\\programs\\python\\python311\\lib\\site-packages (from requests->torch_geometric) (2.4.0)\n",
            "Requirement already satisfied: certifi>=2017.4.17 in c:\\users\\fede6\\appdata\\local\\programs\\python\\python311\\lib\\site-packages (from requests->torch_geometric) (2025.4.26)\n",
            "Requirement already satisfied: colorama in c:\\users\\fede6\\appdata\\local\\programs\\python\\python311\\lib\\site-packages (from tqdm->torch_geometric) (0.4.6)\n"
          ]
        }
      ],
      "source": [
        "!pip install torch_geometric"
      ]
    },
    {
      "cell_type": "code",
      "execution_count": 2,
      "metadata": {},
      "outputs": [
        {
          "name": "stdout",
          "output_type": "stream",
          "text": [
            "C:\\Users\\fede6\\Desktop\\DeepHW\n"
          ]
        }
      ],
      "source": [
        "%cd Desktop/DeepHW/"
      ]
    },
    {
      "cell_type": "code",
      "execution_count": 3,
      "metadata": {
        "id": "lAQuCuIoBbq5",
        "trusted": true
      },
      "outputs": [],
      "source": [
        "import os\n",
        "import torch\n",
        "import pandas as pd\n",
        "import matplotlib.pyplot as plt\n",
        "import logging\n",
        "from tqdm import tqdm\n",
        "from torch_geometric.loader import DataLoader\n",
        "from torch.utils.data import random_split\n",
        "# Load utility functions from cloned repository\n",
        "from loadData import GraphDataset\n",
        "\n",
        "from torch_geometric.nn import GCNConv, global_mean_pool, ResGatedGraphConv\n",
        "\n",
        "# from src.utils import set_seed\n",
        "# from src.models import GNN\n",
        "import argparse\n",
        "\n",
        "import numpy as np\n",
        "\n",
        "from sklearn.metrics import f1_score\n",
        "\n",
        "import conv\n",
        "import kaggle_models as km\n",
        "from torch.optim.lr_scheduler import ReduceLROnPlateau\n",
        "\n",
        "import torch.nn.functional as F\n",
        "\n",
        "import torch.nn as nn\n",
        "\n",
        "import gc\n",
        "\n"
      ]
    },
    {
      "cell_type": "code",
      "execution_count": 4,
      "metadata": {},
      "outputs": [],
      "source": [
        "import random\n",
        "import tarfile\n",
        "\n",
        "def set_seed(seed=777):\n",
        "    seed = seed\n",
        "    torch.manual_seed(seed)\n",
        "    torch.backends.cudnn.deterministic = True\n",
        "    torch.backends.cudnn.benchmark = True\n",
        "    random.seed(seed)\n",
        "    np.random.seed(seed)\n",
        "    if torch.cuda.is_available():\n",
        "        torch.cuda.manual_seed(seed)\n",
        "        torch.cuda.manual_seed_all(seed)\n",
        "\n",
        "set_seed()\n",
        "\n",
        "def gzip_folder(folder_path, output_file):\n",
        "    \"\"\"\n",
        "    Compresses an entire folder into a single .tar.gz file.\n",
        "    \n",
        "    Args:\n",
        "        folder_path (str): Path to the folder to compress.\n",
        "        output_file (str): Path to the output .tar.gz file.\n",
        "    \"\"\"\n",
        "    with tarfile.open(output_file, \"w:gz\") as tar:\n",
        "        tar.add(folder_path, arcname=os.path.basename(folder_path))\n",
        "    print(f\"Folder '{folder_path}' has been compressed into '{output_file}'\")"
      ]
    },
    {
      "cell_type": "code",
      "execution_count": null,
      "metadata": {
        "id": "Dyf0I2-t9IcW",
        "trusted": true
      },
      "outputs": [],
      "source": [
        "def add_zeros(data):\n",
        "    data.x = torch.zeros(data.num_nodes, dtype=torch.long)\n",
        "    return data"
      ]
    },
    {
      "cell_type": "code",
      "execution_count": 6,
      "metadata": {
        "id": "3jKvoQYI9Zbc",
        "trusted": true
      },
      "outputs": [],
      "source": [
        "def train(data_loader, model, optimizer, criterion, device, save_checkpoints, checkpoint_path, current_epoch):\n",
        "    model.train()\n",
        "    total_loss = 0\n",
        "    correct = 0\n",
        "    total = 0\n",
        "    for data in tqdm(data_loader, desc=\"Iterating training graphs\", unit=\"batch\"):\n",
        "        data = data.to(device)\n",
        "        optimizer.zero_grad()\n",
        "        output = model(data)\n",
        "        loss = criterion(output, data.y)\n",
        "        loss.backward()\n",
        "        optimizer.step()\n",
        "        total_loss += loss.item()\n",
        "        pred = output.argmax(dim=1)\n",
        "        correct += (pred == data.y).sum().item()\n",
        "        total += data.y.size(0)\n",
        "\n",
        "    # Save checkpoints if required\n",
        "    # if save_checkpoints:\n",
        "    #     checkpoint_file = f\"{checkpoint_path}_epoch_{current_epoch + 1}.pth\"\n",
        "    #     torch.save(model.state_dict(), checkpoint_file)\n",
        "    #     print(f\"Checkpoint saved at {checkpoint_file}\")\n",
        "\n",
        "    return total_loss / len(data_loader),  correct / total"
      ]
    },
    {
      "cell_type": "code",
      "execution_count": null,
      "metadata": {
        "id": "8peFiIS19ZpK",
        "trusted": true
      },
      "outputs": [],
      "source": [
        "def evaluate(data_loader, model, device, calculate_accuracy=False):\n",
        "    model.eval()\n",
        "    correct = 0\n",
        "    total = 0\n",
        "    ground_truths = []\n",
        "    predictions = []\n",
        "    \n",
        "    total_loss = 0\n",
        "    criterion = torch.nn.CrossEntropyLoss()\n",
        "    with torch.no_grad():\n",
        "        for data in tqdm(data_loader, desc=\"Iterating eval graphs\", unit=\"batch\"):\n",
        "            data = data.to(device)\n",
        "            output = model(data)\n",
        "            pred = output.argmax(dim=1)\n",
        "\n",
        "            if calculate_accuracy:\n",
        "                correct += (pred == data.y).sum().item()\n",
        "                total += data.y.size(0)\n",
        "                total_loss += criterion(output, data.y).item()\n",
        "                \n",
        "                predictions.extend(pred.cpu().numpy())\n",
        "                ground_truths.extend(data.y.cpu().numpy())\n",
        "                \n",
        "                f1 = f1_score(ground_truths, predictions, average='macro')                \n",
        "                \n",
        "            else:\n",
        "                predictions.extend(pred.cpu().numpy())\n",
        "    if calculate_accuracy:\n",
        "        accuracy = correct / total\n",
        "        return  total_loss / len(data_loader), accuracy, f1\n",
        "    return predictions"
      ]
    },
    {
      "cell_type": "code",
      "execution_count": null,
      "metadata": {
        "id": "WanuZKxy9Zs-",
        "trusted": true
      },
      "outputs": [],
      "source": [
        "def save_predictions(predictions, test_path):\n",
        "    script_dir = os.getcwd()\n",
        "    submission_folder = os.path.join(script_dir, \"submission\")\n",
        "    test_dir_name = os.path.basename(os.path.dirname(test_path))\n",
        "\n",
        "    os.makedirs(submission_folder, exist_ok=True)\n",
        "\n",
        "    output_csv_path = os.path.join(submission_folder, f\"testset_{test_dir_name}.csv\")\n",
        "\n",
        "    test_graph_ids = list(range(len(predictions)))\n",
        "    output_df = pd.DataFrame({\n",
        "        \"id\": test_graph_ids,\n",
        "        \"pred\": predictions\n",
        "    })\n",
        "\n",
        "    output_df.to_csv(output_csv_path, index=False)\n",
        "    print(f\"Predictions saved to {output_csv_path}\")"
      ]
    },
    {
      "cell_type": "code",
      "execution_count": null,
      "metadata": {
        "id": "uyHIJS5U9ZzB",
        "trusted": true
      },
      "outputs": [],
      "source": [
        "def plot_training_progress(train_losses, train_accuracies, output_dir, f1_score=None):\n",
        "    epochs = range(1, len(train_losses) + 1)\n",
        "    plt.figure(figsize=(12, 6))\n",
        "\n",
        "    if f1_score is None:\n",
        "        # Plot loss\n",
        "        plt.subplot(1, 2, 1)\n",
        "        plt.plot(epochs, train_losses, label=\"Training Loss\", color='blue')\n",
        "        plt.xlabel('Epoch')\n",
        "        plt.ylabel('Loss')\n",
        "        plt.title('Training Loss per Epoch')\n",
        "\n",
        "        # Plot accuracy\n",
        "        plt.subplot(1, 2, 2)\n",
        "        plt.plot(epochs, train_accuracies, label=\"Training Accuracy\", color='green')\n",
        "        plt.xlabel('Epoch')\n",
        "        plt.ylabel('Accuracy')\n",
        "        plt.title('Training Accuracy per Epoch')\n",
        "    else:\n",
        "        # Plot loss\n",
        "        plt.subplot(1, 3, 1)\n",
        "        plt.plot(epochs, train_losses, label=\"Training Loss\", color='blue')\n",
        "        plt.xlabel('Epoch')\n",
        "        plt.ylabel('Loss')\n",
        "        plt.title('Training Loss per Epoch')\n",
        "\n",
        "        # Plot accuracy\n",
        "        plt.subplot(1, 3, 2)\n",
        "        plt.plot(epochs, train_accuracies, label=\"Training Accuracy\", color='green')\n",
        "        plt.xlabel('Epoch')\n",
        "        plt.ylabel('Accuracy')\n",
        "        plt.title('Training Accuracy per Epoch')\n",
        "        \n",
        "        # Plot f1-score\n",
        "        plt.subplot(1, 3, 3)\n",
        "        plt.plot(epochs, f1_score, label=\"Training F1-score\", color='red')\n",
        "        plt.xlabel('Epoch')\n",
        "        plt.ylabel('F1-score')\n",
        "        plt.title('Training F1-score per Epoch')\n",
        "\n",
        "    # Save plots in the current directory\n",
        "    os.makedirs(output_dir, exist_ok=True)\n",
        "    plt.tight_layout()\n",
        "    plt.savefig(os.path.join(output_dir, \"training_progress.png\"))\n",
        "    plt.close()"
      ]
    },
    {
      "cell_type": "code",
      "execution_count": null,
      "metadata": {
        "id": "8ZfF5Ypw0BHU",
        "trusted": true
      },
      "outputs": [],
      "source": [
        "def get_user_input(prompt, default=None, required=False, type_cast=str):\n",
        "\n",
        "    while True:\n",
        "        user_input = input(f\"{prompt} [{default}]: \")\n",
        "\n",
        "        if user_input == \"\" and required:\n",
        "            print(\"This field is required. Please enter a value.\")\n",
        "            continue\n",
        "\n",
        "        if user_input == \"\" and default is not None:\n",
        "            return default\n",
        "\n",
        "        if user_input == \"\" and not required:\n",
        "            return None\n",
        "\n",
        "        try:\n",
        "            return type_cast(user_input)\n",
        "        except ValueError:\n",
        "            print(f\"Invalid input. Please enter a valid {type_cast.__name__}.\")"
      ]
    },
    {
      "cell_type": "code",
      "execution_count": null,
      "metadata": {
        "id": "SbkHNNsr0BHV",
        "trusted": true
      },
      "outputs": [],
      "source": [
        "def get_arguments():\n",
        "    args = {}\n",
        "    args['train_path'] = get_user_input(\"Path to the training dataset (optional)\")\n",
        "    args['test_path'] = get_user_input(\"Path to the test dataset\", required=True)\n",
        "    args['num_checkpoints'] = get_user_input(\"Number of checkpoints to save during training\", type_cast=int)\n",
        "    args['device'] = get_user_input(\"Which GPU to use if any\", default=1, type_cast=int)\n",
        "    args['gnn'] = get_user_input(\"GNN type (gin, gin-virtual, gcn, gcn-virtual)\", default='gin')\n",
        "    args['drop_ratio'] = get_user_input(\"Dropout ratio\", default=0.0, type_cast=float)\n",
        "    args['num_layer'] = get_user_input(\"Number of GNN message passing layers\", default=5, type_cast=int)\n",
        "    args['emb_dim'] = get_user_input(\"Dimensionality of hidden units in GNNs\", default=300, type_cast=int)\n",
        "    args['batch_size'] = get_user_input(\"Input batch size for training\", default=32, type_cast=int)\n",
        "    args['epochs'] = get_user_input(\"Number of epochs to train\", default=10, type_cast=int)\n",
        "    args['baseline_mode'] = get_user_input(\"Baseline mode: 1 (CE), 2 (Noisy CE)\", default=1, type_cast=int)\n",
        "    args['noise_prob'] = get_user_input(\"Noise probability p (used if baseline_mode=2)\", default=0.2, type_cast=float)\n",
        "\n",
        "\n",
        "    return argparse.Namespace(**args)\n"
      ]
    },
    {
      "cell_type": "code",
      "execution_count": null,
      "metadata": {
        "id": "nozPrW9C0BHW",
        "trusted": true
      },
      "outputs": [],
      "source": [
        "class NoisyCrossEntropyLoss(torch.nn.Module):\n",
        "    def __init__(self, p_noisy):\n",
        "        super().__init__()\n",
        "        self.p = p_noisy\n",
        "        self.ce = torch.nn.CrossEntropyLoss(reduction='mean')\n",
        "\n",
        "    def forward(self, logits, targets):\n",
        "        losses = self.ce(logits, targets)\n",
        "        weights = (1 - self.p) + self.p * (1 - torch.nn.functional.one_hot(targets, num_classes=logits.size(1)).float().sum(dim=1))\n",
        "        return (losses * weights).mean()"
      ]
    },
    {
      "cell_type": "code",
      "execution_count": 39,
      "metadata": {},
      "outputs": [
        {
          "name": "stdout",
          "output_type": "stream",
          "text": [
            "Arguments received:\n",
            "train_path: C:\\Users\\fede6\\Desktop\\DeepHW\\data\\D\\train.json.gz\n",
            "test_path: C:\\Users\\fede6\\Desktop\\DeepHW\\data\\D\\test.json.gz\n",
            "num_checkpoints: 5\n",
            "device: 1\n",
            "gnn: gin-virtual\n",
            "drop_ratio: 0.5\n",
            "num_layer: 5\n",
            "emb_dim: 150\n",
            "batch_size: 32\n",
            "epochs: 100\n",
            "baseline_mode: 2\n",
            "noise_prob: 0.5\n"
          ]
        }
      ],
      "source": [
        "def populate_args(args):\n",
        "    print(\"Arguments received:\")\n",
        "    for key, value in vars(args).items():\n",
        "        print(f\"{key}: {value}\")\n",
        "args = get_arguments()\n",
        "populate_args(args)"
      ]
    },
    {
      "cell_type": "code",
      "execution_count": 40,
      "metadata": {},
      "outputs": [
        {
          "name": "stdout",
          "output_type": "stream",
          "text": [
            "Loading graphs from C:\\Users\\fede6\\Desktop\\DeepHW\\data\\D\\train.json.gz...\n",
            "This may take a few minutes, please wait...\n"
          ]
        },
        {
          "name": "stderr",
          "output_type": "stream",
          "text": [
            "Processing graphs: 100%|██████████████████████████████████████████| 10280/10280 [00:48<00:00, 213.80graph/s]\n"
          ]
        }
      ],
      "source": [
        "full_dataset = GraphDataset(args.train_path, transform=add_zeros, pre_transform=None)\n",
        "val_size = int(0.2 * len(full_dataset))\n",
        "train_size = len(full_dataset) - val_size\n",
        "\n",
        "generator = torch.Generator().manual_seed(12)\n",
        "train_dataset, val_dataset = random_split(full_dataset, [train_size, val_size], generator=generator)"
      ]
    },
    {
      "cell_type": "code",
      "execution_count": 41,
      "metadata": {},
      "outputs": [],
      "source": [
        "train_loader = DataLoader(train_dataset, batch_size=args.batch_size, shuffle=True)\n",
        "val_loader = DataLoader(val_dataset, batch_size=args.batch_size, shuffle=False)"
      ]
    },
    {
      "cell_type": "code",
      "execution_count": null,
      "metadata": {},
      "outputs": [],
      "source": [
        "script_dir = os.getcwd()\n",
        "# device = torch.device(f\"cuda:{args.device}\" if torch.cuda.is_available() else \"cpu\")\n",
        "device = torch.device(\"cuda\" if torch.cuda.is_available() else \"cpu\")\n",
        "num_checkpoints = args.num_checkpoints if args.num_checkpoints else 3\n",
        "\n",
        "if args.gnn == 'gin':\n",
        "    model = km.GNN(gnn_type='gin', num_class=6, num_layer=args.num_layer, emb_dim=args.emb_dim, drop_ratio=args.drop_ratio, virtual_node=False, residual=True, graph_pooling='mean').to(device)\n",
        "elif args.gnn == 'gin-virtual':\n",
        "    model = km.GNN(gnn_type='gin', num_class=6, num_layer=args.num_layer, emb_dim=args.emb_dim, drop_ratio=args.drop_ratio, virtual_node=True, graph_pooling='mean').to(device)\n",
        "elif args.gnn == 'gcn':\n",
        "    model = km.GNN(gnn_type='gcn', num_class=6, num_layer=args.num_layer, emb_dim=args.emb_dim, drop_ratio=args.drop_ratio, virtual_node=False, graph_pooling='mean').to(device)\n",
        "elif args.gnn == 'gcn-virtual':\n",
        "    model = km.GNN(gnn_type='gcn', num_class=6, num_layer=args.num_layer, emb_dim=args.emb_dim, drop_ratio=args.drop_ratio, virtual_node=True).to(device)\n",
        "elif args.gnn == 'gine':\n",
        "    model = conv.GNN(gnn_type='gine', num_class=6, num_layer=args.num_layer, emb_dim=args.emb_dim, drop_ratio=args.drop_ratio, virtual_node=False, residual=True, graph_pooling='attention').to(device)\n",
        "else:\n",
        "    raise ValueError('Invalid GNN type')\n",
        "\n",
        "# model = km.GNN(gnn_type='gin', num_class=6, num_layer=5, emb_dim=150, drop_ratio=0.5, virtual_node=True, residual=True, graph_pooling='attention').to(device)\n",
        "\n",
        "optimizer = torch.optim.Adam(model.parameters(), lr=1e-2, weight_decay=1e-4)\n",
        "scheduler = ReduceLROnPlateau(optimizer, mode='max', factor=0.7, patience=3, min_lr=1e-4)\n",
        "\n",
        "criterion = torch.nn.CrossEntropyLoss()\n",
        "if args.baseline_mode == 2:\n",
        "    criterion = NoisyCrossEntropyLoss(args.noise_prob)\n",
        "else:\n",
        "    criterion = torch.nn.CrossEntropyLoss()"
      ]
    },
    {
      "cell_type": "code",
      "execution_count": 17,
      "metadata": {
        "id": "BTYT5jYuChPb",
        "trusted": true
      },
      "outputs": [],
      "source": [
        "script_dir = os.getcwd()\n",
        "test_dir_name = os.path.basename(os.path.dirname(args.test_path))\n",
        "logs_folder = os.path.join(script_dir, \"logs\", test_dir_name)\n",
        "log_file = os.path.join(logs_folder, \"training.log\")\n",
        "os.makedirs(os.path.dirname(log_file), exist_ok=True)\n",
        "logging.basicConfig(filename=log_file, level=logging.INFO, format='%(asctime)s - %(message)s')\n",
        "# logging.getLogger().addHandler(logging.StreamHandler())\n",
        "\n",
        "checkpoint_path = os.path.join(script_dir, \"checkpoints\", f\"model_{test_dir_name}_best.pth\")\n",
        "checkpoints_folder = os.path.join(script_dir, \"checkpoints\", test_dir_name)\n",
        "os.makedirs(checkpoints_folder, exist_ok=True)"
      ]
    },
    {
      "cell_type": "code",
      "execution_count": null,
      "metadata": {},
      "outputs": [
        {
          "data": {
            "text/plain": [
              "38"
            ]
          },
          "execution_count": 18,
          "metadata": {},
          "output_type": "execute_result"
        }
      ],
      "source": [
        "# Cleaning cell\n",
        "torch.cuda.empty_cache()\n",
        "gc.collect()"
      ]
    },
    {
      "cell_type": "code",
      "execution_count": null,
      "metadata": {},
      "outputs": [],
      "source": [
        "class GCELoss(torch.nn.Module):\n",
        "    def __init__(self, q=0.7):\n",
        "        \"\"\"\n",
        "        Args:\n",
        "            q (float): GCE hyperparameter (0 < q <= 1). q=1 becomes CrossEntropy.\n",
        "        \"\"\"\n",
        "        super().__init__()\n",
        "        assert 0 < q <= 1, \"q must be in (0, 1]\"\n",
        "        self.q = q\n",
        "\n",
        "    def forward(self, logits, targets):\n",
        "        # Convert logits to probabilities\n",
        "        probs = F.softmax(logits, dim=1)\n",
        "        # Get the probability of the true class\n",
        "        true_probs = probs.gather(dim=1, index=targets.view(-1, 1)).squeeze()\n",
        "\n",
        "        if self.q == 1.0:\n",
        "            # Standard cross-entropy\n",
        "            return F.nll_loss(torch.log(probs), targets)\n",
        "        else:\n",
        "            gce = (1.0 - true_probs.pow(self.q)) / self.q\n",
        "            return gce.mean()\n",
        "        \n",
        "# model = conv.GNN(gnn_type='gine', num_class=6, num_layer=5, emb_dim=128, drop_ratio=0.5, virtual_node=False, residual=True, graph_pooling='attention').to(device)\n",
        "# optimizer = torch.optim.Adam(model.parameters(), lr=1e-2, weight_decay=1e-4)\n",
        "# scheduler = ReduceLROnPlateau(optimizer, mode='max', factor=0.7, patience=4, min_lr=1e-4)\n",
        "# criterion = NoisyCrossEntropyLoss(args.noise_prob)"
      ]
    },
    {
      "cell_type": "markdown",
      "metadata": {},
      "source": [
        "**UNCOMMENT TO COMPOSE THE ENSEMBLE**"
      ]
    },
    {
      "cell_type": "code",
      "execution_count": null,
      "metadata": {},
      "outputs": [
        {
          "name": "stderr",
          "output_type": "stream",
          "text": [
            "C:\\Users\\fede6\\AppData\\Local\\Temp\\ipykernel_4512\\3529708574.py:3: FutureWarning: You are using `torch.load` with `weights_only=False` (the current default value), which uses the default pickle module implicitly. It is possible to construct malicious pickle data which will execute arbitrary code during unpickling (See https://github.com/pytorch/pytorch/blob/main/SECURITY.md#untrusted-models for more details). In a future release, the default value for `weights_only` will be flipped to `True`. This limits the functions that could be executed during unpickling. Arbitrary objects will no longer be allowed to be loaded via this mode unless they are explicitly allowlisted by the user via `torch.serialization.add_safe_globals`. We recommend you start setting `weights_only=True` for any use case where you don't have full control of the loaded file. Please open an issue on GitHub for any issues related to this experimental feature.\n",
            "  checkpoint = torch.load(checkpoint_fn)\n",
            "C:\\Users\\fede6\\AppData\\Local\\Temp\\ipykernel_4512\\3529708574.py:12: FutureWarning: You are using `torch.load` with `weights_only=False` (the current default value), which uses the default pickle module implicitly. It is possible to construct malicious pickle data which will execute arbitrary code during unpickling (See https://github.com/pytorch/pytorch/blob/main/SECURITY.md#untrusted-models for more details). In a future release, the default value for `weights_only` will be flipped to `True`. This limits the functions that could be executed during unpickling. Arbitrary objects will no longer be allowed to be loaded via this mode unless they are explicitly allowlisted by the user via `torch.serialization.add_safe_globals`. We recommend you start setting `weights_only=True` for any use case where you don't have full control of the loaded file. Please open an issue on GitHub for any issues related to this experimental feature.\n",
            "  checkpoint = torch.load(checkpoint_fn)\n"
          ]
        },
        {
          "name": "stdout",
          "output_type": "stream",
          "text": [
            "0.8013051538717221\n",
            "0.822174514298719\n"
          ]
        },
        {
          "name": "stderr",
          "output_type": "stream",
          "text": [
            "Iterating eval graphs: 100%|█████████████████████████████████████████████| 65/65 [00:05<00:00, 11.30batch/s]"
          ]
        },
        {
          "name": "stdout",
          "output_type": "stream",
          "text": [
            "Val Loss: 0.4198, Val Acc: 0.7729, Val F1: 0.8190\n"
          ]
        },
        {
          "name": "stderr",
          "output_type": "stream",
          "text": [
            "\n"
          ]
        }
      ],
      "source": [
        "# model1 = km.GNN(gnn_type='gin', num_class=6, num_layer=5, emb_dim=150, drop_ratio=0.5, virtual_node=True, residual=True, graph_pooling='attention').to(device)\n",
        "# checkpoint_fn = os.path.join(script_dir, \"checkpoints\", \"model_D_best_1.pth\")\n",
        "# checkpoint = torch.load(checkpoint_fn)\n",
        "# model1.load_state_dict(checkpoint['model_state_dict'])\n",
        "# \n",
        "# print(checkpoint['best_f1_score'])\n",
        "# \n",
        "# # model2 = km.GNN(gnn_type='gin', num_class=6, num_layer=5, emb_dim=150, drop_ratio=0.5, virtual_node=True, residual=True, graph_pooling='attention').to(device)\n",
        "# model2 = conv.GNN(gnn_type='gine', num_class=6, num_layer=5, emb_dim=128, drop_ratio=0.5, virtual_node=False, residual=True, graph_pooling='attention').to(device)\n",
        "# checkpoint_fn = os.path.join(script_dir, \"checkpoints\", \"model_D_best_2.pth\")\n",
        "# \n",
        "# checkpoint = torch.load(checkpoint_fn)\n",
        "# model2.load_state_dict(checkpoint['model_state_dict'])\n",
        "# \n",
        "# print(checkpoint['best_f1_score'])\n",
        "# model3 = conv.GNN(gnn_type='gine', num_class=6, num_layer=5, emb_dim=128, drop_ratio=0.5, virtual_node=True, residual=True, graph_pooling='attention').to(device)\n",
        "# checkpoint_fn = os.path.join(script_dir, \"checkpoints\", \"model_B_best_3.pth\")\n",
        "# \n",
        "# checkpoint = torch.load(checkpoint_fn)\n",
        "# model3.load_state_dict(checkpoint['model_state_dict'])\n",
        "# \n",
        "# print(checkpoint['best_f1_score'])\n",
        "# \n",
        "# model = km.GNNEnsemble(models=[model1, model2]).to(device)\n",
        "# \n",
        "# val_loss, val_acc, val_f1 = evaluate(val_loader, model, device, calculate_accuracy=True)\n",
        "# \n",
        "# print(f\"Val Loss: {val_loss:.4f}, Val Acc: {val_acc:.4f}, Val F1: {val_f1:.4f}\")\n",
        "# checkpoint = {\n",
        "#     'model_state_dict': model.state_dict(),\n",
        "#     'f1_score': val_f1,\n",
        "#     'val_loss': val_loss,\n",
        "#     'val_accuracy': val_acc\n",
        "# }\n",
        "# \n",
        "# checkpoint_fn = os.path.join(script_dir, \"checkpoints\", \"model_D_best.pth\")\n",
        "# torch.save(checkpoint, checkpoint_fn)"
      ]
    },
    {
      "cell_type": "code",
      "execution_count": null,
      "metadata": {
        "colab": {
          "base_uri": "https://localhost:8080/"
        },
        "id": "4wLyxmJ00BHX",
        "outputId": "fe838c0e-1aa4-4b5f-c702-fe564b5a65ba",
        "trusted": true
      },
      "outputs": [
        {
          "name": "stderr",
          "output_type": "stream",
          "text": [
            "Iterating training graphs: 100%|███████████████████████████████████████| 192/192 [00:20<00:00,  9.32batch/s]\n",
            "Iterating eval graphs: 100%|█████████████████████████████████████████████| 48/48 [00:02<00:00, 17.58batch/s]\n"
          ]
        },
        {
          "name": "stdout",
          "output_type": "stream",
          "text": [
            "Epoch 1/100, Loss: 0.8181, Train Acc: 0.3708 | Val Loss: 1.5604, Val Acc: 0.4225, Val F1: 0.1602\n",
            "Model saved at epoch 1\n",
            "Best model updated and saved at C:\\Users\\fede6\\Desktop\\DeepHW\\checkpoints\\model_C_best.pth\n"
          ]
        },
        {
          "name": "stderr",
          "output_type": "stream",
          "text": [
            "Iterating training graphs: 100%|███████████████████████████████████████| 192/192 [00:20<00:00,  9.40batch/s]\n",
            "Iterating eval graphs: 100%|█████████████████████████████████████████████| 48/48 [00:02<00:00, 17.33batch/s]\n"
          ]
        },
        {
          "name": "stdout",
          "output_type": "stream",
          "text": [
            "Epoch 2/100, Loss: 0.7461, Train Acc: 0.4139 | Val Loss: 1.6035, Val Acc: 0.3802, Val F1: 0.1468\n",
            "Model saved at epoch 2\n"
          ]
        },
        {
          "name": "stderr",
          "output_type": "stream",
          "text": [
            "Iterating training graphs: 100%|███████████████████████████████████████| 192/192 [00:18<00:00, 10.18batch/s]\n",
            "Iterating eval graphs: 100%|█████████████████████████████████████████████| 48/48 [00:02<00:00, 18.67batch/s]\n"
          ]
        },
        {
          "name": "stdout",
          "output_type": "stream",
          "text": [
            "Epoch 3/100, Loss: 0.7091, Train Acc: 0.4393 | Val Loss: 2.0548, Val Acc: 0.2637, Val F1: 0.1482\n",
            "Model saved at epoch 3\n"
          ]
        },
        {
          "name": "stderr",
          "output_type": "stream",
          "text": [
            "Iterating training graphs: 100%|███████████████████████████████████████| 192/192 [00:18<00:00, 10.40batch/s]\n",
            "Iterating eval graphs: 100%|█████████████████████████████████████████████| 48/48 [00:02<00:00, 18.75batch/s]\n"
          ]
        },
        {
          "name": "stdout",
          "output_type": "stream",
          "text": [
            "Epoch 4/100, Loss: 0.6805, Train Acc: 0.4702 | Val Loss: 1.4649, Val Acc: 0.4714, Val F1: 0.2313\n",
            "Model saved at epoch 4\n",
            "Best model updated and saved at C:\\Users\\fede6\\Desktop\\DeepHW\\checkpoints\\model_C_best.pth\n"
          ]
        },
        {
          "name": "stderr",
          "output_type": "stream",
          "text": [
            "Iterating training graphs: 100%|███████████████████████████████████████| 192/192 [00:19<00:00,  9.81batch/s]\n",
            "Iterating eval graphs: 100%|█████████████████████████████████████████████| 48/48 [00:02<00:00, 17.66batch/s]\n"
          ]
        },
        {
          "name": "stdout",
          "output_type": "stream",
          "text": [
            "Epoch 5/100, Loss: 0.6475, Train Acc: 0.5002 | Val Loss: 1.4626, Val Acc: 0.4382, Val F1: 0.2134\n",
            "Model saved at epoch 5\n"
          ]
        },
        {
          "name": "stderr",
          "output_type": "stream",
          "text": [
            "Iterating training graphs: 100%|███████████████████████████████████████| 192/192 [00:22<00:00,  8.40batch/s]\n",
            "Iterating eval graphs: 100%|█████████████████████████████████████████████| 48/48 [00:02<00:00, 17.66batch/s]\n"
          ]
        },
        {
          "name": "stdout",
          "output_type": "stream",
          "text": [
            "Epoch 6/100, Loss: 0.6063, Train Acc: 0.5423 | Val Loss: 1.1145, Val Acc: 0.5944, Val F1: 0.4653\n",
            "Model saved at epoch 6\n",
            "Best model updated and saved at C:\\Users\\fede6\\Desktop\\DeepHW\\checkpoints\\model_C_best.pth\n"
          ]
        },
        {
          "name": "stderr",
          "output_type": "stream",
          "text": [
            "Iterating training graphs: 100%|███████████████████████████████████████| 192/192 [00:19<00:00,  9.61batch/s]\n",
            "Iterating eval graphs: 100%|█████████████████████████████████████████████| 48/48 [00:02<00:00, 17.25batch/s]\n"
          ]
        },
        {
          "name": "stdout",
          "output_type": "stream",
          "text": [
            "Epoch 7/100, Loss: 0.5677, Train Acc: 0.5796 | Val Loss: 1.0373, Val Acc: 0.6276, Val F1: 0.5048\n",
            "Model saved at epoch 7\n",
            "Best model updated and saved at C:\\Users\\fede6\\Desktop\\DeepHW\\checkpoints\\model_C_best.pth\n"
          ]
        },
        {
          "name": "stderr",
          "output_type": "stream",
          "text": [
            "Iterating training graphs: 100%|███████████████████████████████████████| 192/192 [00:19<00:00,  9.91batch/s]\n",
            "Iterating eval graphs: 100%|█████████████████████████████████████████████| 48/48 [00:02<00:00, 17.66batch/s]\n"
          ]
        },
        {
          "name": "stdout",
          "output_type": "stream",
          "text": [
            "Epoch 8/100, Loss: 0.5177, Train Acc: 0.6077 | Val Loss: 1.0378, Val Acc: 0.6302, Val F1: 0.5262\n",
            "Model saved at epoch 8\n",
            "Best model updated and saved at C:\\Users\\fede6\\Desktop\\DeepHW\\checkpoints\\model_C_best.pth\n"
          ]
        },
        {
          "name": "stderr",
          "output_type": "stream",
          "text": [
            "Iterating training graphs: 100%|███████████████████████████████████████| 192/192 [00:19<00:00,  9.93batch/s]\n",
            "Iterating eval graphs: 100%|█████████████████████████████████████████████| 48/48 [00:02<00:00, 17.66batch/s]\n"
          ]
        },
        {
          "name": "stdout",
          "output_type": "stream",
          "text": [
            "Epoch 9/100, Loss: 0.4929, Train Acc: 0.6318 | Val Loss: 1.1314, Val Acc: 0.5684, Val F1: 0.4537\n",
            "Model saved at epoch 9\n"
          ]
        },
        {
          "name": "stderr",
          "output_type": "stream",
          "text": [
            "Iterating training graphs: 100%|███████████████████████████████████████| 192/192 [00:19<00:00,  9.88batch/s]\n",
            "Iterating eval graphs: 100%|█████████████████████████████████████████████| 48/48 [00:02<00:00, 18.88batch/s]\n"
          ]
        },
        {
          "name": "stdout",
          "output_type": "stream",
          "text": [
            "Epoch 10/100, Loss: 0.4617, Train Acc: 0.6580 | Val Loss: 1.1580, Val Acc: 0.5312, Val F1: 0.5036\n",
            "Model saved at epoch 10\n"
          ]
        },
        {
          "name": "stderr",
          "output_type": "stream",
          "text": [
            "Iterating training graphs: 100%|███████████████████████████████████████| 192/192 [00:19<00:00,  9.86batch/s]\n",
            "Iterating eval graphs: 100%|█████████████████████████████████████████████| 48/48 [00:02<00:00, 18.50batch/s]\n"
          ]
        },
        {
          "name": "stdout",
          "output_type": "stream",
          "text": [
            "Epoch 11/100, Loss: 0.4487, Train Acc: 0.6629 | Val Loss: 1.0478, Val Acc: 0.6139, Val F1: 0.5133\n",
            "Model saved at epoch 11\n"
          ]
        },
        {
          "name": "stderr",
          "output_type": "stream",
          "text": [
            "Iterating training graphs: 100%|███████████████████████████████████████| 192/192 [00:19<00:00,  9.82batch/s]\n",
            "Iterating eval graphs: 100%|█████████████████████████████████████████████| 48/48 [00:03<00:00, 15.89batch/s]\n"
          ]
        },
        {
          "name": "stdout",
          "output_type": "stream",
          "text": [
            "Epoch 12/100, Loss: 0.4170, Train Acc: 0.6916 | Val Loss: 1.0602, Val Acc: 0.5951, Val F1: 0.5391\n",
            "Model saved at epoch 12\n",
            "Best model updated and saved at C:\\Users\\fede6\\Desktop\\DeepHW\\checkpoints\\model_C_best.pth\n"
          ]
        },
        {
          "name": "stderr",
          "output_type": "stream",
          "text": [
            "Iterating training graphs: 100%|███████████████████████████████████████| 192/192 [00:19<00:00,  9.87batch/s]\n",
            "Iterating eval graphs: 100%|█████████████████████████████████████████████| 48/48 [00:02<00:00, 16.17batch/s]\n"
          ]
        },
        {
          "name": "stdout",
          "output_type": "stream",
          "text": [
            "Epoch 13/100, Loss: 0.4147, Train Acc: 0.6859 | Val Loss: 0.8594, Val Acc: 0.6836, Val F1: 0.6291\n",
            "Model saved at epoch 13\n",
            "Best model updated and saved at C:\\Users\\fede6\\Desktop\\DeepHW\\checkpoints\\model_C_best.pth\n"
          ]
        },
        {
          "name": "stderr",
          "output_type": "stream",
          "text": [
            "Iterating training graphs: 100%|███████████████████████████████████████| 192/192 [00:19<00:00,  9.88batch/s]\n",
            "Iterating eval graphs: 100%|█████████████████████████████████████████████| 48/48 [00:02<00:00, 17.23batch/s]\n"
          ]
        },
        {
          "name": "stdout",
          "output_type": "stream",
          "text": [
            "Epoch 14/100, Loss: 0.3907, Train Acc: 0.7155 | Val Loss: 1.9017, Val Acc: 0.5306, Val F1: 0.3884\n",
            "Model saved at epoch 14\n"
          ]
        },
        {
          "name": "stderr",
          "output_type": "stream",
          "text": [
            "Iterating training graphs: 100%|███████████████████████████████████████| 192/192 [00:20<00:00,  9.57batch/s]\n",
            "Iterating eval graphs: 100%|█████████████████████████████████████████████| 48/48 [00:02<00:00, 17.60batch/s]\n"
          ]
        },
        {
          "name": "stdout",
          "output_type": "stream",
          "text": [
            "Epoch 15/100, Loss: 0.3827, Train Acc: 0.7103 | Val Loss: 1.3915, Val Acc: 0.5059, Val F1: 0.3552\n",
            "Model saved at epoch 15\n"
          ]
        },
        {
          "name": "stderr",
          "output_type": "stream",
          "text": [
            "Iterating training graphs: 100%|███████████████████████████████████████| 192/192 [00:19<00:00, 10.08batch/s]\n",
            "Iterating eval graphs: 100%|█████████████████████████████████████████████| 48/48 [00:02<00:00, 17.26batch/s]\n"
          ]
        },
        {
          "name": "stdout",
          "output_type": "stream",
          "text": [
            "Epoch 16/100, Loss: 0.3677, Train Acc: 0.7243 | Val Loss: 0.8630, Val Acc: 0.6797, Val F1: 0.6253\n",
            "Model saved at epoch 16\n"
          ]
        },
        {
          "name": "stderr",
          "output_type": "stream",
          "text": [
            "Iterating training graphs: 100%|███████████████████████████████████████| 192/192 [00:19<00:00,  9.63batch/s]\n",
            "Iterating eval graphs: 100%|█████████████████████████████████████████████| 48/48 [00:02<00:00, 16.81batch/s]\n"
          ]
        },
        {
          "name": "stdout",
          "output_type": "stream",
          "text": [
            "Epoch 17/100, Loss: 0.3596, Train Acc: 0.7375 | Val Loss: 0.8363, Val Acc: 0.6823, Val F1: 0.5946\n",
            "Model saved at epoch 17\n"
          ]
        },
        {
          "name": "stderr",
          "output_type": "stream",
          "text": [
            "Iterating training graphs: 100%|███████████████████████████████████████| 192/192 [00:20<00:00,  9.52batch/s]\n",
            "Iterating eval graphs: 100%|█████████████████████████████████████████████| 48/48 [00:02<00:00, 17.90batch/s]\n"
          ]
        },
        {
          "name": "stdout",
          "output_type": "stream",
          "text": [
            "Epoch 18/100, Loss: 0.3456, Train Acc: 0.7370 | Val Loss: 0.9040, Val Acc: 0.6419, Val F1: 0.6025\n",
            "Model saved at epoch 18\n"
          ]
        },
        {
          "name": "stderr",
          "output_type": "stream",
          "text": [
            "Iterating training graphs: 100%|███████████████████████████████████████| 192/192 [00:19<00:00,  9.74batch/s]\n",
            "Iterating eval graphs: 100%|█████████████████████████████████████████████| 48/48 [00:02<00:00, 17.42batch/s]\n"
          ]
        },
        {
          "name": "stdout",
          "output_type": "stream",
          "text": [
            "Epoch 19/100, Loss: 0.3144, Train Acc: 0.7663 | Val Loss: 0.8889, Val Acc: 0.6921, Val F1: 0.6397\n",
            "Model saved at epoch 19\n",
            "Best model updated and saved at C:\\Users\\fede6\\Desktop\\DeepHW\\checkpoints\\model_C_best.pth\n"
          ]
        },
        {
          "name": "stderr",
          "output_type": "stream",
          "text": [
            "Iterating training graphs: 100%|███████████████████████████████████████| 192/192 [00:21<00:00,  8.74batch/s]\n",
            "Iterating eval graphs: 100%|█████████████████████████████████████████████| 48/48 [00:02<00:00, 16.54batch/s]\n"
          ]
        },
        {
          "name": "stdout",
          "output_type": "stream",
          "text": [
            "Epoch 20/100, Loss: 0.3188, Train Acc: 0.7642 | Val Loss: 0.9791, Val Acc: 0.6335, Val F1: 0.6239\n",
            "Model saved at epoch 20\n"
          ]
        },
        {
          "name": "stderr",
          "output_type": "stream",
          "text": [
            "Iterating training graphs: 100%|███████████████████████████████████████| 192/192 [00:19<00:00,  9.83batch/s]\n",
            "Iterating eval graphs: 100%|█████████████████████████████████████████████| 48/48 [00:02<00:00, 17.13batch/s]\n"
          ]
        },
        {
          "name": "stdout",
          "output_type": "stream",
          "text": [
            "Epoch 21/100, Loss: 0.3071, Train Acc: 0.7690 | Val Loss: 0.6121, Val Acc: 0.7676, Val F1: 0.7230\n",
            "Model saved at epoch 21\n",
            "Best model updated and saved at C:\\Users\\fede6\\Desktop\\DeepHW\\checkpoints\\model_C_best.pth\n"
          ]
        },
        {
          "name": "stderr",
          "output_type": "stream",
          "text": [
            "Iterating training graphs: 100%|███████████████████████████████████████| 192/192 [00:20<00:00,  9.50batch/s]\n",
            "Iterating eval graphs: 100%|█████████████████████████████████████████████| 48/48 [00:02<00:00, 17.51batch/s]\n"
          ]
        },
        {
          "name": "stdout",
          "output_type": "stream",
          "text": [
            "Epoch 22/100, Loss: 0.3114, Train Acc: 0.7708 | Val Loss: 0.7091, Val Acc: 0.7428, Val F1: 0.6891\n",
            "Model saved at epoch 22\n"
          ]
        },
        {
          "name": "stderr",
          "output_type": "stream",
          "text": [
            "Iterating training graphs: 100%|███████████████████████████████████████| 192/192 [00:19<00:00,  9.75batch/s]\n",
            "Iterating eval graphs: 100%|█████████████████████████████████████████████| 48/48 [00:02<00:00, 16.74batch/s]\n"
          ]
        },
        {
          "name": "stdout",
          "output_type": "stream",
          "text": [
            "Epoch 23/100, Loss: 0.2987, Train Acc: 0.7783 | Val Loss: 0.6788, Val Acc: 0.7526, Val F1: 0.7095\n",
            "Model saved at epoch 23\n"
          ]
        },
        {
          "name": "stderr",
          "output_type": "stream",
          "text": [
            "Iterating training graphs: 100%|███████████████████████████████████████| 192/192 [00:19<00:00,  9.88batch/s]\n",
            "Iterating eval graphs: 100%|█████████████████████████████████████████████| 48/48 [00:02<00:00, 18.00batch/s]\n"
          ]
        },
        {
          "name": "stdout",
          "output_type": "stream",
          "text": [
            "Epoch 24/100, Loss: 0.2960, Train Acc: 0.7786 | Val Loss: 0.6938, Val Acc: 0.7292, Val F1: 0.6497\n",
            "Model saved at epoch 24\n"
          ]
        },
        {
          "name": "stderr",
          "output_type": "stream",
          "text": [
            "Iterating training graphs: 100%|███████████████████████████████████████| 192/192 [00:19<00:00,  9.63batch/s]\n",
            "Iterating eval graphs: 100%|█████████████████████████████████████████████| 48/48 [00:02<00:00, 17.57batch/s]\n"
          ]
        },
        {
          "name": "stdout",
          "output_type": "stream",
          "text": [
            "Epoch 25/100, Loss: 0.3014, Train Acc: 0.7749 | Val Loss: 0.6325, Val Acc: 0.7650, Val F1: 0.7245\n",
            "Model saved at epoch 25\n",
            "Best model updated and saved at C:\\Users\\fede6\\Desktop\\DeepHW\\checkpoints\\model_C_best.pth\n"
          ]
        },
        {
          "name": "stderr",
          "output_type": "stream",
          "text": [
            "Iterating training graphs: 100%|███████████████████████████████████████| 192/192 [00:19<00:00,  9.62batch/s]\n",
            "Iterating eval graphs: 100%|█████████████████████████████████████████████| 48/48 [00:02<00:00, 16.07batch/s]\n"
          ]
        },
        {
          "name": "stdout",
          "output_type": "stream",
          "text": [
            "Epoch 26/100, Loss: 0.2886, Train Acc: 0.7882 | Val Loss: 0.5705, Val Acc: 0.7884, Val F1: 0.7488\n",
            "Model saved at epoch 26\n",
            "Best model updated and saved at C:\\Users\\fede6\\Desktop\\DeepHW\\checkpoints\\model_C_best.pth\n"
          ]
        },
        {
          "name": "stderr",
          "output_type": "stream",
          "text": [
            "Iterating training graphs: 100%|███████████████████████████████████████| 192/192 [00:19<00:00,  9.86batch/s]\n",
            "Iterating eval graphs: 100%|█████████████████████████████████████████████| 48/48 [00:02<00:00, 16.71batch/s]\n"
          ]
        },
        {
          "name": "stdout",
          "output_type": "stream",
          "text": [
            "Epoch 27/100, Loss: 0.2967, Train Acc: 0.7827 | Val Loss: 0.7344, Val Acc: 0.7181, Val F1: 0.6335\n",
            "Model saved at epoch 27\n"
          ]
        },
        {
          "name": "stderr",
          "output_type": "stream",
          "text": [
            "Iterating training graphs: 100%|███████████████████████████████████████| 192/192 [00:21<00:00,  8.91batch/s]\n",
            "Iterating eval graphs: 100%|█████████████████████████████████████████████| 48/48 [00:02<00:00, 16.24batch/s]\n"
          ]
        },
        {
          "name": "stdout",
          "output_type": "stream",
          "text": [
            "Epoch 28/100, Loss: 0.2865, Train Acc: 0.7822 | Val Loss: 0.5868, Val Acc: 0.7747, Val F1: 0.7389\n",
            "Model saved at epoch 28\n"
          ]
        },
        {
          "name": "stderr",
          "output_type": "stream",
          "text": [
            "Iterating training graphs: 100%|███████████████████████████████████████| 192/192 [00:19<00:00,  9.79batch/s]\n",
            "Iterating eval graphs: 100%|█████████████████████████████████████████████| 48/48 [00:02<00:00, 18.83batch/s]\n"
          ]
        },
        {
          "name": "stdout",
          "output_type": "stream",
          "text": [
            "Epoch 29/100, Loss: 0.2833, Train Acc: 0.7899 | Val Loss: 0.5878, Val Acc: 0.7832, Val F1: 0.7531\n",
            "Model saved at epoch 29\n",
            "Best model updated and saved at C:\\Users\\fede6\\Desktop\\DeepHW\\checkpoints\\model_C_best.pth\n"
          ]
        },
        {
          "name": "stderr",
          "output_type": "stream",
          "text": [
            "Iterating training graphs: 100%|███████████████████████████████████████| 192/192 [00:19<00:00,  9.65batch/s]\n",
            "Iterating eval graphs: 100%|█████████████████████████████████████████████| 48/48 [00:02<00:00, 16.45batch/s]\n"
          ]
        },
        {
          "name": "stdout",
          "output_type": "stream",
          "text": [
            "Epoch 30/100, Loss: 0.2722, Train Acc: 0.7928 | Val Loss: 0.5535, Val Acc: 0.7930, Val F1: 0.7712\n",
            "Model saved at epoch 30\n",
            "Best model updated and saved at C:\\Users\\fede6\\Desktop\\DeepHW\\checkpoints\\model_C_best.pth\n"
          ]
        },
        {
          "name": "stderr",
          "output_type": "stream",
          "text": [
            "Iterating training graphs: 100%|███████████████████████████████████████| 192/192 [00:19<00:00,  9.75batch/s]\n",
            "Iterating eval graphs: 100%|█████████████████████████████████████████████| 48/48 [00:02<00:00, 16.09batch/s]\n"
          ]
        },
        {
          "name": "stdout",
          "output_type": "stream",
          "text": [
            "Epoch 31/100, Loss: 0.2770, Train Acc: 0.7907 | Val Loss: 0.8266, Val Acc: 0.7116, Val F1: 0.6861\n",
            "Model saved at epoch 31\n"
          ]
        },
        {
          "name": "stderr",
          "output_type": "stream",
          "text": [
            "Iterating training graphs: 100%|███████████████████████████████████████| 192/192 [00:19<00:00, 10.01batch/s]\n",
            "Iterating eval graphs: 100%|█████████████████████████████████████████████| 48/48 [00:02<00:00, 17.44batch/s]\n"
          ]
        },
        {
          "name": "stdout",
          "output_type": "stream",
          "text": [
            "Epoch 32/100, Loss: 0.2831, Train Acc: 0.7865 | Val Loss: 0.5280, Val Acc: 0.7956, Val F1: 0.7487\n",
            "Model saved at epoch 32\n"
          ]
        },
        {
          "name": "stderr",
          "output_type": "stream",
          "text": [
            "Iterating training graphs: 100%|███████████████████████████████████████| 192/192 [00:20<00:00,  9.18batch/s]\n",
            "Iterating eval graphs: 100%|█████████████████████████████████████████████| 48/48 [00:03<00:00, 15.70batch/s]\n"
          ]
        },
        {
          "name": "stdout",
          "output_type": "stream",
          "text": [
            "Epoch 33/100, Loss: 0.2781, Train Acc: 0.7905 | Val Loss: 0.8940, Val Acc: 0.6745, Val F1: 0.5744\n",
            "Model saved at epoch 33\n"
          ]
        },
        {
          "name": "stderr",
          "output_type": "stream",
          "text": [
            "Iterating training graphs: 100%|███████████████████████████████████████| 192/192 [00:19<00:00,  9.84batch/s]\n",
            "Iterating eval graphs: 100%|█████████████████████████████████████████████| 48/48 [00:02<00:00, 17.02batch/s]\n"
          ]
        },
        {
          "name": "stdout",
          "output_type": "stream",
          "text": [
            "Epoch 34/100, Loss: 0.2779, Train Acc: 0.7878 | Val Loss: 0.5387, Val Acc: 0.7975, Val F1: 0.7657\n",
            "Model saved at epoch 34\n"
          ]
        },
        {
          "name": "stderr",
          "output_type": "stream",
          "text": [
            "Iterating training graphs: 100%|███████████████████████████████████████| 192/192 [00:19<00:00, 10.05batch/s]\n",
            "Iterating eval graphs: 100%|█████████████████████████████████████████████| 48/48 [00:02<00:00, 19.05batch/s]\n"
          ]
        },
        {
          "name": "stdout",
          "output_type": "stream",
          "text": [
            "Epoch 35/100, Loss: 0.2704, Train Acc: 0.7948 | Val Loss: 0.5976, Val Acc: 0.7767, Val F1: 0.7414\n",
            "Model saved at epoch 35\n"
          ]
        },
        {
          "name": "stderr",
          "output_type": "stream",
          "text": [
            "Iterating training graphs: 100%|███████████████████████████████████████| 192/192 [00:19<00:00,  9.82batch/s]\n",
            "Iterating eval graphs: 100%|█████████████████████████████████████████████| 48/48 [00:02<00:00, 16.41batch/s]\n"
          ]
        },
        {
          "name": "stdout",
          "output_type": "stream",
          "text": [
            "Epoch 36/100, Loss: 0.2588, Train Acc: 0.8016 | Val Loss: 0.5389, Val Acc: 0.7943, Val F1: 0.7701\n",
            "Model saved at epoch 36\n"
          ]
        },
        {
          "name": "stderr",
          "output_type": "stream",
          "text": [
            "Iterating training graphs: 100%|███████████████████████████████████████| 192/192 [00:19<00:00,  9.82batch/s]\n",
            "Iterating eval graphs: 100%|█████████████████████████████████████████████| 48/48 [00:02<00:00, 17.78batch/s]\n"
          ]
        },
        {
          "name": "stdout",
          "output_type": "stream",
          "text": [
            "Epoch 37/100, Loss: 0.2473, Train Acc: 0.8110 | Val Loss: 0.5573, Val Acc: 0.7923, Val F1: 0.7711\n",
            "Model saved at epoch 37\n"
          ]
        },
        {
          "name": "stderr",
          "output_type": "stream",
          "text": [
            "Iterating training graphs: 100%|███████████████████████████████████████| 192/192 [00:16<00:00, 11.57batch/s]\n",
            "Iterating eval graphs: 100%|█████████████████████████████████████████████| 48/48 [00:01<00:00, 27.21batch/s]\n"
          ]
        },
        {
          "name": "stdout",
          "output_type": "stream",
          "text": [
            "Epoch 38/100, Loss: 0.2538, Train Acc: 0.8099 | Val Loss: 0.6498, Val Acc: 0.7591, Val F1: 0.6987\n",
            "Model saved at epoch 38\n"
          ]
        },
        {
          "name": "stderr",
          "output_type": "stream",
          "text": [
            "Iterating training graphs: 100%|███████████████████████████████████████| 192/192 [00:12<00:00, 15.04batch/s]\n",
            "Iterating eval graphs: 100%|█████████████████████████████████████████████| 48/48 [00:01<00:00, 27.15batch/s]\n"
          ]
        },
        {
          "name": "stdout",
          "output_type": "stream",
          "text": [
            "Epoch 39/100, Loss: 0.2496, Train Acc: 0.8118 | Val Loss: 0.5419, Val Acc: 0.7904, Val F1: 0.7592\n",
            "Model saved at epoch 39\n"
          ]
        },
        {
          "name": "stderr",
          "output_type": "stream",
          "text": [
            "Iterating training graphs: 100%|███████████████████████████████████████| 192/192 [00:16<00:00, 11.98batch/s]\n",
            "Iterating eval graphs: 100%|█████████████████████████████████████████████| 48/48 [00:03<00:00, 14.76batch/s]\n"
          ]
        },
        {
          "name": "stdout",
          "output_type": "stream",
          "text": [
            "Epoch 40/100, Loss: 0.2481, Train Acc: 0.8120 | Val Loss: 0.7965, Val Acc: 0.7064, Val F1: 0.6777\n",
            "Model saved at epoch 40\n"
          ]
        },
        {
          "name": "stderr",
          "output_type": "stream",
          "text": [
            "Iterating training graphs: 100%|███████████████████████████████████████| 192/192 [00:20<00:00,  9.27batch/s]\n",
            "Iterating eval graphs: 100%|█████████████████████████████████████████████| 48/48 [00:02<00:00, 17.38batch/s]\n"
          ]
        },
        {
          "name": "stdout",
          "output_type": "stream",
          "text": [
            "Epoch 41/100, Loss: 0.2331, Train Acc: 0.8234 | Val Loss: 0.5026, Val Acc: 0.8158, Val F1: 0.7958\n",
            "Model saved at epoch 41\n",
            "Best model updated and saved at C:\\Users\\fede6\\Desktop\\DeepHW\\checkpoints\\model_C_best.pth\n"
          ]
        },
        {
          "name": "stderr",
          "output_type": "stream",
          "text": [
            "Iterating training graphs: 100%|███████████████████████████████████████| 192/192 [00:21<00:00,  8.90batch/s]\n",
            "Iterating eval graphs: 100%|█████████████████████████████████████████████| 48/48 [00:02<00:00, 16.45batch/s]\n"
          ]
        },
        {
          "name": "stdout",
          "output_type": "stream",
          "text": [
            "Epoch 42/100, Loss: 0.2304, Train Acc: 0.8239 | Val Loss: 0.8389, Val Acc: 0.6862, Val F1: 0.5545\n",
            "Model saved at epoch 42\n"
          ]
        },
        {
          "name": "stderr",
          "output_type": "stream",
          "text": [
            "Iterating training graphs: 100%|███████████████████████████████████████| 192/192 [00:21<00:00,  8.81batch/s]\n",
            "Iterating eval graphs: 100%|█████████████████████████████████████████████| 48/48 [00:01<00:00, 27.13batch/s]\n"
          ]
        },
        {
          "name": "stdout",
          "output_type": "stream",
          "text": [
            "Epoch 43/100, Loss: 0.2300, Train Acc: 0.8268 | Val Loss: 0.4982, Val Acc: 0.8177, Val F1: 0.7966\n",
            "Model saved at epoch 43\n",
            "Best model updated and saved at C:\\Users\\fede6\\Desktop\\DeepHW\\checkpoints\\model_C_best.pth\n"
          ]
        },
        {
          "name": "stderr",
          "output_type": "stream",
          "text": [
            "Iterating training graphs: 100%|███████████████████████████████████████| 192/192 [00:14<00:00, 13.41batch/s]\n",
            "Iterating eval graphs: 100%|█████████████████████████████████████████████| 48/48 [00:01<00:00, 27.35batch/s]\n"
          ]
        },
        {
          "name": "stdout",
          "output_type": "stream",
          "text": [
            "Epoch 44/100, Loss: 0.2309, Train Acc: 0.8260 | Val Loss: 0.5572, Val Acc: 0.7910, Val F1: 0.7542\n",
            "Model saved at epoch 44\n"
          ]
        },
        {
          "name": "stderr",
          "output_type": "stream",
          "text": [
            "Iterating training graphs: 100%|███████████████████████████████████████| 192/192 [00:12<00:00, 15.20batch/s]\n",
            "Iterating eval graphs: 100%|█████████████████████████████████████████████| 48/48 [00:01<00:00, 25.56batch/s]\n"
          ]
        },
        {
          "name": "stdout",
          "output_type": "stream",
          "text": [
            "Epoch 45/100, Loss: 0.2337, Train Acc: 0.8203 | Val Loss: 0.5611, Val Acc: 0.7897, Val F1: 0.7519\n",
            "Model saved at epoch 45\n"
          ]
        },
        {
          "name": "stderr",
          "output_type": "stream",
          "text": [
            "Iterating training graphs: 100%|███████████████████████████████████████| 192/192 [00:22<00:00,  8.40batch/s]\n",
            "Iterating eval graphs: 100%|█████████████████████████████████████████████| 48/48 [00:02<00:00, 19.27batch/s]\n"
          ]
        },
        {
          "name": "stdout",
          "output_type": "stream",
          "text": [
            "Epoch 46/100, Loss: 0.2301, Train Acc: 0.8208 | Val Loss: 0.4738, Val Acc: 0.8288, Val F1: 0.8059\n",
            "Model saved at epoch 46\n",
            "Best model updated and saved at C:\\Users\\fede6\\Desktop\\DeepHW\\checkpoints\\model_C_best.pth\n"
          ]
        },
        {
          "name": "stderr",
          "output_type": "stream",
          "text": [
            "Iterating training graphs: 100%|███████████████████████████████████████| 192/192 [00:19<00:00,  9.83batch/s]\n",
            "Iterating eval graphs: 100%|█████████████████████████████████████████████| 48/48 [00:02<00:00, 17.47batch/s]\n"
          ]
        },
        {
          "name": "stdout",
          "output_type": "stream",
          "text": [
            "Epoch 47/100, Loss: 0.2265, Train Acc: 0.8286 | Val Loss: 0.5325, Val Acc: 0.8086, Val F1: 0.7741\n",
            "Model saved at epoch 47\n"
          ]
        },
        {
          "name": "stderr",
          "output_type": "stream",
          "text": [
            "Iterating training graphs: 100%|███████████████████████████████████████| 192/192 [00:19<00:00,  9.64batch/s]\n",
            "Iterating eval graphs: 100%|█████████████████████████████████████████████| 48/48 [00:02<00:00, 18.15batch/s]\n"
          ]
        },
        {
          "name": "stdout",
          "output_type": "stream",
          "text": [
            "Epoch 48/100, Loss: 0.2261, Train Acc: 0.8260 | Val Loss: 0.5596, Val Acc: 0.7975, Val F1: 0.7643\n",
            "Model saved at epoch 48\n"
          ]
        },
        {
          "name": "stderr",
          "output_type": "stream",
          "text": [
            "Iterating training graphs: 100%|███████████████████████████████████████| 192/192 [00:18<00:00, 10.64batch/s]\n",
            "Iterating eval graphs: 100%|█████████████████████████████████████████████| 48/48 [00:01<00:00, 26.45batch/s]\n"
          ]
        },
        {
          "name": "stdout",
          "output_type": "stream",
          "text": [
            "Epoch 49/100, Loss: 0.2224, Train Acc: 0.8276 | Val Loss: 0.4696, Val Acc: 0.8171, Val F1: 0.7906\n",
            "Model saved at epoch 49\n"
          ]
        },
        {
          "name": "stderr",
          "output_type": "stream",
          "text": [
            "Iterating training graphs: 100%|███████████████████████████████████████| 192/192 [00:18<00:00, 10.63batch/s]\n",
            "Iterating eval graphs: 100%|█████████████████████████████████████████████| 48/48 [00:02<00:00, 17.24batch/s]\n"
          ]
        },
        {
          "name": "stdout",
          "output_type": "stream",
          "text": [
            "Epoch 50/100, Loss: 0.2258, Train Acc: 0.8286 | Val Loss: 0.4642, Val Acc: 0.8288, Val F1: 0.8151\n",
            "Model saved at epoch 50\n",
            "Best model updated and saved at C:\\Users\\fede6\\Desktop\\DeepHW\\checkpoints\\model_C_best.pth\n"
          ]
        },
        {
          "name": "stderr",
          "output_type": "stream",
          "text": [
            "Iterating training graphs: 100%|███████████████████████████████████████| 192/192 [00:19<00:00,  9.90batch/s]\n",
            "Iterating eval graphs: 100%|█████████████████████████████████████████████| 48/48 [00:03<00:00, 15.94batch/s]\n"
          ]
        },
        {
          "name": "stdout",
          "output_type": "stream",
          "text": [
            "Epoch 51/100, Loss: 0.2240, Train Acc: 0.8231 | Val Loss: 0.6035, Val Acc: 0.7806, Val F1: 0.7408\n",
            "Model saved at epoch 51\n"
          ]
        },
        {
          "name": "stderr",
          "output_type": "stream",
          "text": [
            "Iterating training graphs: 100%|███████████████████████████████████████| 192/192 [00:21<00:00,  8.87batch/s]\n",
            "Iterating eval graphs: 100%|█████████████████████████████████████████████| 48/48 [00:02<00:00, 18.57batch/s]\n"
          ]
        },
        {
          "name": "stdout",
          "output_type": "stream",
          "text": [
            "Epoch 52/100, Loss: 0.2285, Train Acc: 0.8215 | Val Loss: 0.4584, Val Acc: 0.8262, Val F1: 0.8056\n",
            "Model saved at epoch 52\n"
          ]
        },
        {
          "name": "stderr",
          "output_type": "stream",
          "text": [
            "Iterating training graphs: 100%|███████████████████████████████████████| 192/192 [00:19<00:00,  9.83batch/s]\n",
            "Iterating eval graphs: 100%|█████████████████████████████████████████████| 48/48 [00:02<00:00, 18.68batch/s]\n"
          ]
        },
        {
          "name": "stdout",
          "output_type": "stream",
          "text": [
            "Epoch 53/100, Loss: 0.2251, Train Acc: 0.8286 | Val Loss: 0.6000, Val Acc: 0.7721, Val F1: 0.7123\n",
            "Model saved at epoch 53\n"
          ]
        },
        {
          "name": "stderr",
          "output_type": "stream",
          "text": [
            "Iterating training graphs: 100%|███████████████████████████████████████| 192/192 [00:19<00:00,  9.84batch/s]\n",
            "Iterating eval graphs: 100%|█████████████████████████████████████████████| 48/48 [00:02<00:00, 17.65batch/s]\n"
          ]
        },
        {
          "name": "stdout",
          "output_type": "stream",
          "text": [
            "Epoch 54/100, Loss: 0.2243, Train Acc: 0.8296 | Val Loss: 0.4927, Val Acc: 0.8190, Val F1: 0.7997\n",
            "Model saved at epoch 54\n"
          ]
        },
        {
          "name": "stderr",
          "output_type": "stream",
          "text": [
            "Iterating training graphs: 100%|███████████████████████████████████████| 192/192 [00:21<00:00,  9.00batch/s]\n",
            "Iterating eval graphs: 100%|█████████████████████████████████████████████| 48/48 [00:02<00:00, 18.79batch/s]\n"
          ]
        },
        {
          "name": "stdout",
          "output_type": "stream",
          "text": [
            "Epoch 55/100, Loss: 0.2151, Train Acc: 0.8337 | Val Loss: 0.4739, Val Acc: 0.8314, Val F1: 0.8124\n",
            "Model saved at epoch 55\n"
          ]
        },
        {
          "name": "stderr",
          "output_type": "stream",
          "text": [
            "Iterating training graphs: 100%|███████████████████████████████████████| 192/192 [00:19<00:00,  9.89batch/s]\n",
            "Iterating eval graphs: 100%|█████████████████████████████████████████████| 48/48 [00:02<00:00, 22.96batch/s]\n"
          ]
        },
        {
          "name": "stdout",
          "output_type": "stream",
          "text": [
            "Epoch 56/100, Loss: 0.2076, Train Acc: 0.8403 | Val Loss: 0.4989, Val Acc: 0.8158, Val F1: 0.7857\n",
            "Model saved at epoch 56\n"
          ]
        },
        {
          "name": "stderr",
          "output_type": "stream",
          "text": [
            "Iterating training graphs: 100%|███████████████████████████████████████| 192/192 [00:14<00:00, 13.36batch/s]\n",
            "Iterating eval graphs: 100%|█████████████████████████████████████████████| 48/48 [00:02<00:00, 23.57batch/s]\n"
          ]
        },
        {
          "name": "stdout",
          "output_type": "stream",
          "text": [
            "Epoch 57/100, Loss: 0.2074, Train Acc: 0.8356 | Val Loss: 0.4561, Val Acc: 0.8294, Val F1: 0.8147\n",
            "Model saved at epoch 57\n"
          ]
        },
        {
          "name": "stderr",
          "output_type": "stream",
          "text": [
            "Iterating training graphs: 100%|███████████████████████████████████████| 192/192 [00:13<00:00, 13.74batch/s]\n",
            "Iterating eval graphs: 100%|█████████████████████████████████████████████| 48/48 [00:01<00:00, 24.40batch/s]\n"
          ]
        },
        {
          "name": "stdout",
          "output_type": "stream",
          "text": [
            "Epoch 58/100, Loss: 0.2073, Train Acc: 0.8384 | Val Loss: 0.4578, Val Acc: 0.8327, Val F1: 0.8112\n",
            "Model saved at epoch 58\n"
          ]
        },
        {
          "name": "stderr",
          "output_type": "stream",
          "text": [
            "Iterating training graphs: 100%|███████████████████████████████████████| 192/192 [00:14<00:00, 13.58batch/s]\n",
            "Iterating eval graphs: 100%|█████████████████████████████████████████████| 48/48 [00:01<00:00, 24.08batch/s]\n"
          ]
        },
        {
          "name": "stdout",
          "output_type": "stream",
          "text": [
            "Epoch 59/100, Loss: 0.2106, Train Acc: 0.8366 | Val Loss: 0.4759, Val Acc: 0.8255, Val F1: 0.8170\n",
            "Model saved at epoch 59\n",
            "Best model updated and saved at C:\\Users\\fede6\\Desktop\\DeepHW\\checkpoints\\model_C_best.pth\n"
          ]
        },
        {
          "name": "stderr",
          "output_type": "stream",
          "text": [
            "Iterating training graphs: 100%|███████████████████████████████████████| 192/192 [00:15<00:00, 12.58batch/s]\n",
            "Iterating eval graphs: 100%|█████████████████████████████████████████████| 48/48 [00:01<00:00, 24.75batch/s]\n"
          ]
        },
        {
          "name": "stdout",
          "output_type": "stream",
          "text": [
            "Epoch 60/100, Loss: 0.2072, Train Acc: 0.8434 | Val Loss: 0.4771, Val Acc: 0.8223, Val F1: 0.8068\n",
            "Model saved at epoch 60\n"
          ]
        },
        {
          "name": "stderr",
          "output_type": "stream",
          "text": [
            "Iterating training graphs: 100%|███████████████████████████████████████| 192/192 [00:20<00:00,  9.25batch/s]\n",
            "Iterating eval graphs: 100%|█████████████████████████████████████████████| 48/48 [00:02<00:00, 17.00batch/s]\n"
          ]
        },
        {
          "name": "stdout",
          "output_type": "stream",
          "text": [
            "Epoch 61/100, Loss: 0.2081, Train Acc: 0.8369 | Val Loss: 0.7287, Val Acc: 0.7461, Val F1: 0.6728\n",
            "Model saved at epoch 61\n"
          ]
        },
        {
          "name": "stderr",
          "output_type": "stream",
          "text": [
            "Iterating training graphs: 100%|███████████████████████████████████████| 192/192 [00:19<00:00,  9.71batch/s]\n",
            "Iterating eval graphs: 100%|█████████████████████████████████████████████| 48/48 [00:03<00:00, 15.25batch/s]\n"
          ]
        },
        {
          "name": "stdout",
          "output_type": "stream",
          "text": [
            "Epoch 62/100, Loss: 0.2028, Train Acc: 0.8398 | Val Loss: 0.4817, Val Acc: 0.8177, Val F1: 0.7937\n",
            "Model saved at epoch 62\n"
          ]
        },
        {
          "name": "stderr",
          "output_type": "stream",
          "text": [
            "Iterating training graphs: 100%|███████████████████████████████████████| 192/192 [00:21<00:00,  9.13batch/s]\n",
            "Iterating eval graphs: 100%|█████████████████████████████████████████████| 48/48 [00:02<00:00, 16.47batch/s]\n"
          ]
        },
        {
          "name": "stdout",
          "output_type": "stream",
          "text": [
            "Epoch 63/100, Loss: 0.2042, Train Acc: 0.8415 | Val Loss: 0.4703, Val Acc: 0.8223, Val F1: 0.7957\n",
            "Model saved at epoch 63\n"
          ]
        },
        {
          "name": "stderr",
          "output_type": "stream",
          "text": [
            "Iterating training graphs: 100%|███████████████████████████████████████| 192/192 [00:19<00:00, 10.00batch/s]\n",
            "Iterating eval graphs: 100%|█████████████████████████████████████████████| 48/48 [00:02<00:00, 17.85batch/s]\n"
          ]
        },
        {
          "name": "stdout",
          "output_type": "stream",
          "text": [
            "Epoch 64/100, Loss: 0.2001, Train Acc: 0.8429 | Val Loss: 0.4426, Val Acc: 0.8340, Val F1: 0.8181\n",
            "Model saved at epoch 64\n",
            "Best model updated and saved at C:\\Users\\fede6\\Desktop\\DeepHW\\checkpoints\\model_C_best.pth\n"
          ]
        },
        {
          "name": "stderr",
          "output_type": "stream",
          "text": [
            "Iterating training graphs: 100%|███████████████████████████████████████| 192/192 [00:20<00:00,  9.59batch/s]\n",
            "Iterating eval graphs: 100%|█████████████████████████████████████████████| 48/48 [00:02<00:00, 17.15batch/s]\n"
          ]
        },
        {
          "name": "stdout",
          "output_type": "stream",
          "text": [
            "Epoch 65/100, Loss: 0.2082, Train Acc: 0.8384 | Val Loss: 0.4631, Val Acc: 0.8197, Val F1: 0.8022\n",
            "Model saved at epoch 65\n"
          ]
        },
        {
          "name": "stderr",
          "output_type": "stream",
          "text": [
            "Iterating training graphs: 100%|███████████████████████████████████████| 192/192 [00:20<00:00,  9.36batch/s]\n",
            "Iterating eval graphs: 100%|█████████████████████████████████████████████| 48/48 [00:02<00:00, 18.38batch/s]\n"
          ]
        },
        {
          "name": "stdout",
          "output_type": "stream",
          "text": [
            "Epoch 66/100, Loss: 0.2050, Train Acc: 0.8431 | Val Loss: 0.4780, Val Acc: 0.8197, Val F1: 0.8003\n",
            "Model saved at epoch 66\n"
          ]
        },
        {
          "name": "stderr",
          "output_type": "stream",
          "text": [
            "Iterating training graphs: 100%|███████████████████████████████████████| 192/192 [00:19<00:00,  9.85batch/s]\n",
            "Iterating eval graphs: 100%|█████████████████████████████████████████████| 48/48 [00:02<00:00, 18.22batch/s]\n"
          ]
        },
        {
          "name": "stdout",
          "output_type": "stream",
          "text": [
            "Epoch 67/100, Loss: 0.2052, Train Acc: 0.8408 | Val Loss: 0.4413, Val Acc: 0.8340, Val F1: 0.8167\n",
            "Model saved at epoch 67\n"
          ]
        },
        {
          "name": "stderr",
          "output_type": "stream",
          "text": [
            "Iterating training graphs: 100%|███████████████████████████████████████| 192/192 [00:18<00:00, 10.17batch/s]\n",
            "Iterating eval graphs: 100%|█████████████████████████████████████████████| 48/48 [00:02<00:00, 18.21batch/s]\n"
          ]
        },
        {
          "name": "stdout",
          "output_type": "stream",
          "text": [
            "Epoch 68/100, Loss: 0.2021, Train Acc: 0.8433 | Val Loss: 0.4415, Val Acc: 0.8307, Val F1: 0.8129\n",
            "Model saved at epoch 68\n"
          ]
        },
        {
          "name": "stderr",
          "output_type": "stream",
          "text": [
            "Iterating training graphs: 100%|███████████████████████████████████████| 192/192 [00:21<00:00,  8.87batch/s]\n",
            "Iterating eval graphs: 100%|█████████████████████████████████████████████| 48/48 [00:03<00:00, 15.60batch/s]\n"
          ]
        },
        {
          "name": "stdout",
          "output_type": "stream",
          "text": [
            "Epoch 69/100, Loss: 0.1974, Train Acc: 0.8475 | Val Loss: 0.4365, Val Acc: 0.8392, Val F1: 0.8299\n",
            "Model saved at epoch 69\n",
            "Best model updated and saved at C:\\Users\\fede6\\Desktop\\DeepHW\\checkpoints\\model_C_best.pth\n"
          ]
        },
        {
          "name": "stderr",
          "output_type": "stream",
          "text": [
            "Iterating training graphs: 100%|███████████████████████████████████████| 192/192 [00:19<00:00, 10.04batch/s]\n",
            "Iterating eval graphs: 100%|█████████████████████████████████████████████| 48/48 [00:02<00:00, 17.48batch/s]\n"
          ]
        },
        {
          "name": "stdout",
          "output_type": "stream",
          "text": [
            "Epoch 70/100, Loss: 0.2033, Train Acc: 0.8423 | Val Loss: 0.4539, Val Acc: 0.8320, Val F1: 0.8172\n",
            "Model saved at epoch 70\n"
          ]
        },
        {
          "name": "stderr",
          "output_type": "stream",
          "text": [
            "Iterating training graphs: 100%|███████████████████████████████████████| 192/192 [00:20<00:00,  9.51batch/s]\n",
            "Iterating eval graphs: 100%|█████████████████████████████████████████████| 48/48 [00:02<00:00, 18.02batch/s]\n"
          ]
        },
        {
          "name": "stdout",
          "output_type": "stream",
          "text": [
            "Epoch 71/100, Loss: 0.2021, Train Acc: 0.8423 | Val Loss: 0.4514, Val Acc: 0.8320, Val F1: 0.8134\n",
            "Model saved at epoch 71\n"
          ]
        },
        {
          "name": "stderr",
          "output_type": "stream",
          "text": [
            "Iterating training graphs: 100%|███████████████████████████████████████| 192/192 [00:19<00:00,  9.99batch/s]\n",
            "Iterating eval graphs: 100%|█████████████████████████████████████████████| 48/48 [00:02<00:00, 17.41batch/s]\n"
          ]
        },
        {
          "name": "stdout",
          "output_type": "stream",
          "text": [
            "Epoch 72/100, Loss: 0.2087, Train Acc: 0.8397 | Val Loss: 0.4406, Val Acc: 0.8294, Val F1: 0.8081\n",
            "Model saved at epoch 72\n"
          ]
        },
        {
          "name": "stderr",
          "output_type": "stream",
          "text": [
            "Iterating training graphs: 100%|███████████████████████████████████████| 192/192 [00:21<00:00,  8.87batch/s]\n",
            "Iterating eval graphs: 100%|█████████████████████████████████████████████| 48/48 [00:02<00:00, 17.61batch/s]\n"
          ]
        },
        {
          "name": "stdout",
          "output_type": "stream",
          "text": [
            "Epoch 73/100, Loss: 0.2000, Train Acc: 0.8467 | Val Loss: 0.4700, Val Acc: 0.8249, Val F1: 0.7965\n",
            "Model saved at epoch 73\n"
          ]
        },
        {
          "name": "stderr",
          "output_type": "stream",
          "text": [
            "Iterating training graphs: 100%|███████████████████████████████████████| 192/192 [00:19<00:00,  9.90batch/s]\n",
            "Iterating eval graphs: 100%|█████████████████████████████████████████████| 48/48 [00:02<00:00, 18.56batch/s]\n"
          ]
        },
        {
          "name": "stdout",
          "output_type": "stream",
          "text": [
            "Epoch 74/100, Loss: 0.1992, Train Acc: 0.8447 | Val Loss: 0.4319, Val Acc: 0.8333, Val F1: 0.8138\n",
            "Model saved at epoch 74\n"
          ]
        },
        {
          "name": "stderr",
          "output_type": "stream",
          "text": [
            "Iterating training graphs: 100%|███████████████████████████████████████| 192/192 [00:19<00:00,  9.63batch/s]\n",
            "Iterating eval graphs: 100%|█████████████████████████████████████████████| 48/48 [00:02<00:00, 17.03batch/s]\n"
          ]
        },
        {
          "name": "stdout",
          "output_type": "stream",
          "text": [
            "Epoch 75/100, Loss: 0.1926, Train Acc: 0.8493 | Val Loss: 0.4527, Val Acc: 0.8307, Val F1: 0.8127\n",
            "Model saved at epoch 75\n"
          ]
        },
        {
          "name": "stderr",
          "output_type": "stream",
          "text": [
            "Iterating training graphs: 100%|███████████████████████████████████████| 192/192 [00:19<00:00, 10.04batch/s]\n",
            "Iterating eval graphs: 100%|█████████████████████████████████████████████| 48/48 [00:02<00:00, 17.88batch/s]\n"
          ]
        },
        {
          "name": "stdout",
          "output_type": "stream",
          "text": [
            "Epoch 76/100, Loss: 0.1874, Train Acc: 0.8525 | Val Loss: 0.4184, Val Acc: 0.8411, Val F1: 0.8282\n",
            "Model saved at epoch 76\n"
          ]
        },
        {
          "name": "stderr",
          "output_type": "stream",
          "text": [
            "Iterating training graphs: 100%|███████████████████████████████████████| 192/192 [00:19<00:00,  9.86batch/s]\n",
            "Iterating eval graphs: 100%|█████████████████████████████████████████████| 48/48 [00:02<00:00, 18.24batch/s]\n"
          ]
        },
        {
          "name": "stdout",
          "output_type": "stream",
          "text": [
            "Epoch 77/100, Loss: 0.1898, Train Acc: 0.8524 | Val Loss: 0.4453, Val Acc: 0.8340, Val F1: 0.8252\n",
            "Model saved at epoch 77\n"
          ]
        },
        {
          "name": "stderr",
          "output_type": "stream",
          "text": [
            "Iterating training graphs: 100%|███████████████████████████████████████| 192/192 [00:20<00:00,  9.15batch/s]\n",
            "Iterating eval graphs: 100%|█████████████████████████████████████████████| 48/48 [00:02<00:00, 17.56batch/s]\n"
          ]
        },
        {
          "name": "stdout",
          "output_type": "stream",
          "text": [
            "Epoch 78/100, Loss: 0.1905, Train Acc: 0.8517 | Val Loss: 0.4307, Val Acc: 0.8333, Val F1: 0.8154\n",
            "Model saved at epoch 78\n"
          ]
        },
        {
          "name": "stderr",
          "output_type": "stream",
          "text": [
            "Iterating training graphs: 100%|███████████████████████████████████████| 192/192 [00:19<00:00,  9.77batch/s]\n",
            "Iterating eval graphs: 100%|█████████████████████████████████████████████| 48/48 [00:02<00:00, 17.69batch/s]\n"
          ]
        },
        {
          "name": "stdout",
          "output_type": "stream",
          "text": [
            "Epoch 79/100, Loss: 0.1919, Train Acc: 0.8473 | Val Loss: 0.5233, Val Acc: 0.8132, Val F1: 0.7907\n",
            "Model saved at epoch 79\n"
          ]
        },
        {
          "name": "stderr",
          "output_type": "stream",
          "text": [
            "Iterating training graphs: 100%|███████████████████████████████████████| 192/192 [00:19<00:00,  9.69batch/s]\n",
            "Iterating eval graphs: 100%|█████████████████████████████████████████████| 48/48 [00:02<00:00, 16.60batch/s]\n"
          ]
        },
        {
          "name": "stdout",
          "output_type": "stream",
          "text": [
            "Epoch 80/100, Loss: 0.1815, Train Acc: 0.8573 | Val Loss: 0.4191, Val Acc: 0.8398, Val F1: 0.8257\n",
            "Model saved at epoch 80\n"
          ]
        },
        {
          "name": "stderr",
          "output_type": "stream",
          "text": [
            "Iterating training graphs: 100%|███████████████████████████████████████| 192/192 [00:18<00:00, 10.61batch/s]\n",
            "Iterating eval graphs: 100%|█████████████████████████████████████████████| 48/48 [00:03<00:00, 14.16batch/s]\n"
          ]
        },
        {
          "name": "stdout",
          "output_type": "stream",
          "text": [
            "Epoch 81/100, Loss: 0.1871, Train Acc: 0.8532 | Val Loss: 0.4226, Val Acc: 0.8444, Val F1: 0.8326\n",
            "Model saved at epoch 81\n",
            "Best model updated and saved at C:\\Users\\fede6\\Desktop\\DeepHW\\checkpoints\\model_C_best.pth\n"
          ]
        },
        {
          "name": "stderr",
          "output_type": "stream",
          "text": [
            "Iterating training graphs: 100%|███████████████████████████████████████| 192/192 [00:19<00:00,  9.72batch/s]\n",
            "Iterating eval graphs: 100%|█████████████████████████████████████████████| 48/48 [00:02<00:00, 18.48batch/s]\n"
          ]
        },
        {
          "name": "stdout",
          "output_type": "stream",
          "text": [
            "Epoch 82/100, Loss: 0.1810, Train Acc: 0.8582 | Val Loss: 0.4225, Val Acc: 0.8444, Val F1: 0.8285\n",
            "Model saved at epoch 82\n"
          ]
        },
        {
          "name": "stderr",
          "output_type": "stream",
          "text": [
            "Iterating training graphs: 100%|███████████████████████████████████████| 192/192 [00:19<00:00,  9.74batch/s]\n",
            "Iterating eval graphs: 100%|█████████████████████████████████████████████| 48/48 [00:02<00:00, 16.28batch/s]\n"
          ]
        },
        {
          "name": "stdout",
          "output_type": "stream",
          "text": [
            "Epoch 83/100, Loss: 0.1857, Train Acc: 0.8530 | Val Loss: 0.4289, Val Acc: 0.8385, Val F1: 0.8255\n",
            "Model saved at epoch 83\n"
          ]
        },
        {
          "name": "stderr",
          "output_type": "stream",
          "text": [
            "Iterating training graphs: 100%|███████████████████████████████████████| 192/192 [00:17<00:00, 11.04batch/s]\n",
            "Iterating eval graphs: 100%|█████████████████████████████████████████████| 48/48 [00:01<00:00, 27.32batch/s]\n"
          ]
        },
        {
          "name": "stdout",
          "output_type": "stream",
          "text": [
            "Epoch 84/100, Loss: 0.1827, Train Acc: 0.8555 | Val Loss: 0.4254, Val Acc: 0.8385, Val F1: 0.8270\n",
            "Model saved at epoch 84\n"
          ]
        },
        {
          "name": "stderr",
          "output_type": "stream",
          "text": [
            "Iterating training graphs: 100%|███████████████████████████████████████| 192/192 [00:19<00:00,  9.89batch/s]\n",
            "Iterating eval graphs: 100%|█████████████████████████████████████████████| 48/48 [00:02<00:00, 18.16batch/s]\n"
          ]
        },
        {
          "name": "stdout",
          "output_type": "stream",
          "text": [
            "Epoch 85/100, Loss: 0.1812, Train Acc: 0.8582 | Val Loss: 0.4401, Val Acc: 0.8379, Val F1: 0.8234\n",
            "Model saved at epoch 85\n"
          ]
        },
        {
          "name": "stderr",
          "output_type": "stream",
          "text": [
            "Iterating training graphs: 100%|███████████████████████████████████████| 192/192 [00:20<00:00,  9.38batch/s]\n",
            "Iterating eval graphs: 100%|█████████████████████████████████████████████| 48/48 [00:02<00:00, 18.36batch/s]\n"
          ]
        },
        {
          "name": "stdout",
          "output_type": "stream",
          "text": [
            "Epoch 86/100, Loss: 0.1815, Train Acc: 0.8556 | Val Loss: 0.4311, Val Acc: 0.8424, Val F1: 0.8283\n",
            "Model saved at epoch 86\n"
          ]
        },
        {
          "name": "stderr",
          "output_type": "stream",
          "text": [
            "Iterating training graphs: 100%|███████████████████████████████████████| 192/192 [00:19<00:00, 10.08batch/s]\n",
            "Iterating eval graphs: 100%|█████████████████████████████████████████████| 48/48 [00:02<00:00, 17.29batch/s]\n"
          ]
        },
        {
          "name": "stdout",
          "output_type": "stream",
          "text": [
            "Epoch 87/100, Loss: 0.1765, Train Acc: 0.8589 | Val Loss: 0.4522, Val Acc: 0.8385, Val F1: 0.8230\n",
            "Model saved at epoch 87\n"
          ]
        },
        {
          "name": "stderr",
          "output_type": "stream",
          "text": [
            "Iterating training graphs: 100%|███████████████████████████████████████| 192/192 [00:18<00:00, 10.14batch/s]\n",
            "Iterating eval graphs: 100%|█████████████████████████████████████████████| 48/48 [00:02<00:00, 17.20batch/s]\n"
          ]
        },
        {
          "name": "stdout",
          "output_type": "stream",
          "text": [
            "Epoch 88/100, Loss: 0.1763, Train Acc: 0.8558 | Val Loss: 0.4207, Val Acc: 0.8418, Val F1: 0.8289\n",
            "Model saved at epoch 88\n"
          ]
        },
        {
          "name": "stderr",
          "output_type": "stream",
          "text": [
            "Iterating training graphs: 100%|███████████████████████████████████████| 192/192 [00:18<00:00, 10.28batch/s]\n",
            "Iterating eval graphs: 100%|█████████████████████████████████████████████| 48/48 [00:02<00:00, 19.31batch/s]\n"
          ]
        },
        {
          "name": "stdout",
          "output_type": "stream",
          "text": [
            "Epoch 89/100, Loss: 0.1800, Train Acc: 0.8568 | Val Loss: 0.4315, Val Acc: 0.8366, Val F1: 0.8191\n",
            "Model saved at epoch 89\n"
          ]
        },
        {
          "name": "stderr",
          "output_type": "stream",
          "text": [
            "Iterating training graphs: 100%|███████████████████████████████████████| 192/192 [00:20<00:00,  9.36batch/s]\n",
            "Iterating eval graphs: 100%|█████████████████████████████████████████████| 48/48 [00:02<00:00, 16.30batch/s]\n"
          ]
        },
        {
          "name": "stdout",
          "output_type": "stream",
          "text": [
            "Epoch 90/100, Loss: 0.1727, Train Acc: 0.8618 | Val Loss: 0.4236, Val Acc: 0.8431, Val F1: 0.8327\n",
            "Model saved at epoch 90\n",
            "Best model updated and saved at C:\\Users\\fede6\\Desktop\\DeepHW\\checkpoints\\model_C_best.pth\n"
          ]
        },
        {
          "name": "stderr",
          "output_type": "stream",
          "text": [
            "Iterating training graphs: 100%|███████████████████████████████████████| 192/192 [00:19<00:00,  9.93batch/s]\n",
            "Iterating eval graphs: 100%|█████████████████████████████████████████████| 48/48 [00:02<00:00, 17.63batch/s]\n"
          ]
        },
        {
          "name": "stdout",
          "output_type": "stream",
          "text": [
            "Epoch 91/100, Loss: 0.1733, Train Acc: 0.8630 | Val Loss: 0.4344, Val Acc: 0.8405, Val F1: 0.8283\n",
            "Model saved at epoch 91\n"
          ]
        },
        {
          "name": "stderr",
          "output_type": "stream",
          "text": [
            "Iterating training graphs: 100%|███████████████████████████████████████| 192/192 [00:22<00:00,  8.50batch/s]\n",
            "Iterating eval graphs: 100%|█████████████████████████████████████████████| 48/48 [00:02<00:00, 16.83batch/s]\n"
          ]
        },
        {
          "name": "stdout",
          "output_type": "stream",
          "text": [
            "Epoch 92/100, Loss: 0.1691, Train Acc: 0.8696 | Val Loss: 0.4339, Val Acc: 0.8418, Val F1: 0.8273\n",
            "Model saved at epoch 92\n"
          ]
        },
        {
          "name": "stderr",
          "output_type": "stream",
          "text": [
            "Iterating training graphs: 100%|███████████████████████████████████████| 192/192 [00:19<00:00,  9.66batch/s]\n",
            "Iterating eval graphs: 100%|█████████████████████████████████████████████| 48/48 [00:02<00:00, 18.42batch/s]\n"
          ]
        },
        {
          "name": "stdout",
          "output_type": "stream",
          "text": [
            "Epoch 93/100, Loss: 0.1717, Train Acc: 0.8628 | Val Loss: 0.4181, Val Acc: 0.8431, Val F1: 0.8307\n",
            "Model saved at epoch 93\n"
          ]
        },
        {
          "name": "stderr",
          "output_type": "stream",
          "text": [
            "Iterating training graphs: 100%|███████████████████████████████████████| 192/192 [00:16<00:00, 11.46batch/s]\n",
            "Iterating eval graphs: 100%|█████████████████████████████████████████████| 48/48 [00:01<00:00, 27.14batch/s]\n"
          ]
        },
        {
          "name": "stdout",
          "output_type": "stream",
          "text": [
            "Epoch 94/100, Loss: 0.1702, Train Acc: 0.8656 | Val Loss: 0.4115, Val Acc: 0.8438, Val F1: 0.8334\n",
            "Model saved at epoch 94\n",
            "Best model updated and saved at C:\\Users\\fede6\\Desktop\\DeepHW\\checkpoints\\model_C_best.pth\n"
          ]
        },
        {
          "name": "stderr",
          "output_type": "stream",
          "text": [
            "Iterating training graphs: 100%|███████████████████████████████████████| 192/192 [00:13<00:00, 14.57batch/s]\n",
            "Iterating eval graphs: 100%|█████████████████████████████████████████████| 48/48 [00:03<00:00, 15.75batch/s]\n"
          ]
        },
        {
          "name": "stdout",
          "output_type": "stream",
          "text": [
            "Epoch 95/100, Loss: 0.1702, Train Acc: 0.8625 | Val Loss: 0.4264, Val Acc: 0.8392, Val F1: 0.8270\n",
            "Model saved at epoch 95\n"
          ]
        },
        {
          "name": "stderr",
          "output_type": "stream",
          "text": [
            "Iterating training graphs: 100%|███████████████████████████████████████| 192/192 [00:20<00:00,  9.20batch/s]\n",
            "Iterating eval graphs: 100%|█████████████████████████████████████████████| 48/48 [00:02<00:00, 18.66batch/s]\n"
          ]
        },
        {
          "name": "stdout",
          "output_type": "stream",
          "text": [
            "Epoch 96/100, Loss: 0.1726, Train Acc: 0.8613 | Val Loss: 0.4323, Val Acc: 0.8353, Val F1: 0.8229\n",
            "Model saved at epoch 96\n"
          ]
        },
        {
          "name": "stderr",
          "output_type": "stream",
          "text": [
            "Iterating training graphs: 100%|███████████████████████████████████████| 192/192 [00:19<00:00,  9.74batch/s]\n",
            "Iterating eval graphs: 100%|█████████████████████████████████████████████| 48/48 [00:02<00:00, 16.15batch/s]\n"
          ]
        },
        {
          "name": "stdout",
          "output_type": "stream",
          "text": [
            "Epoch 97/100, Loss: 0.1686, Train Acc: 0.8639 | Val Loss: 0.4257, Val Acc: 0.8392, Val F1: 0.8266\n",
            "Model saved at epoch 97\n"
          ]
        },
        {
          "name": "stderr",
          "output_type": "stream",
          "text": [
            "Iterating training graphs: 100%|███████████████████████████████████████| 192/192 [00:23<00:00,  8.33batch/s]\n",
            "Iterating eval graphs: 100%|█████████████████████████████████████████████| 48/48 [00:02<00:00, 18.89batch/s]\n"
          ]
        },
        {
          "name": "stdout",
          "output_type": "stream",
          "text": [
            "Epoch 98/100, Loss: 0.1668, Train Acc: 0.8670 | Val Loss: 0.4275, Val Acc: 0.8366, Val F1: 0.8222\n",
            "Model saved at epoch 98\n"
          ]
        },
        {
          "name": "stderr",
          "output_type": "stream",
          "text": [
            "Iterating training graphs: 100%|███████████████████████████████████████| 192/192 [00:20<00:00,  9.22batch/s]\n",
            "Iterating eval graphs: 100%|█████████████████████████████████████████████| 48/48 [00:02<00:00, 18.62batch/s]\n"
          ]
        },
        {
          "name": "stdout",
          "output_type": "stream",
          "text": [
            "Epoch 99/100, Loss: 0.1719, Train Acc: 0.8644 | Val Loss: 0.4331, Val Acc: 0.8411, Val F1: 0.8283\n",
            "Model saved at epoch 99\n"
          ]
        },
        {
          "name": "stderr",
          "output_type": "stream",
          "text": [
            "Iterating training graphs: 100%|███████████████████████████████████████| 192/192 [00:19<00:00,  9.65batch/s]\n",
            "Iterating eval graphs: 100%|█████████████████████████████████████████████| 48/48 [00:02<00:00, 17.59batch/s]\n"
          ]
        },
        {
          "name": "stdout",
          "output_type": "stream",
          "text": [
            "Epoch 100/100, Loss: 0.1695, Train Acc: 0.8678 | Val Loss: 0.4264, Val Acc: 0.8438, Val F1: 0.8320\n",
            "Model saved at epoch 100\n"
          ]
        }
      ],
      "source": [
        "if args.train_path:\n",
        "    num_epochs = args.epochs\n",
        "    best_val_accuracy = 0.0\n",
        "    best_f1_score =     0.0\n",
        "\n",
        "    train_losses = []\n",
        "    train_accuracies = []\n",
        "    val_losses = []\n",
        "    val_accuracies = []\n",
        "    val_f1_scores = []\n",
        "    \n",
        "    if num_checkpoints > 1:\n",
        "        checkpoint_intervals = [int((i + 1) * num_epochs / num_checkpoints) for i in range(num_checkpoints)]\n",
        "    else:\n",
        "        checkpoint_intervals = [num_epochs]\n",
        "\n",
        "    for epoch in range(0, num_epochs):\n",
        "        train_loss, train_acc = train(\n",
        "            train_loader, model, optimizer, criterion, device,\n",
        "            save_checkpoints=(epoch + 1 in checkpoint_intervals),\n",
        "            checkpoint_path=os.path.join(checkpoints_folder, f\"model_{test_dir_name}\"),\n",
        "            current_epoch=epoch\n",
        "        )\n",
        "\n",
        "        val_loss, val_acc, val_f1 = evaluate(val_loader, model, device, calculate_accuracy=True)\n",
        "        \n",
        "        scheduler.step(val_f1)\n",
        "        \n",
        "        print(f\"Epoch {epoch + 1}/{num_epochs}, Loss: {train_loss:.4f}, Train Acc: {train_acc:.4f} | Val Loss: {val_loss:.4f}, Val Acc: {val_acc:.4f}, Val F1: {val_f1:.4f}\")\n",
        "        logging.info(f\"Epoch {epoch + 1}/{num_epochs}, Loss: {train_loss:.4f}, Train Acc: {train_acc:.4f} | Val Loss: {val_loss:.4f}, Val Acc: {val_acc:.4f}, Val F1: {val_f1:.4f}\")\n",
        "\n",
        "        train_losses.append(train_loss)\n",
        "        train_accuracies.append(train_acc)\n",
        "        val_losses.append(val_loss)\n",
        "        val_accuracies.append(val_acc)\n",
        "        val_f1_scores.append(val_f1)\n",
        "            \n",
        "        checkpoint = {\n",
        "            'epoch': epoch + 1,\n",
        "            'model_state_dict': model.state_dict(),\n",
        "            'sched_state_dict': scheduler.state_dict(),\n",
        "            'best_f1_score': best_f1_score,\n",
        "            'train_loss': train_losses,\n",
        "            'train_accuracy': train_accuracies,\n",
        "            'val_loss': val_losses,\n",
        "            'val_accuracy': val_accuracies,\n",
        "            'val_f1_score': val_f1_scores\n",
        "        }\n",
        "        \n",
        "        torch.save(checkpoint, os.path.join(script_dir, \"checkpoints\", f\"C\\model_C_epoch_{epoch+1}.pth\"))\n",
        "        print(f\"Model saved at epoch {epoch+1}\")\n",
        "    \n",
        "        if val_f1 > best_f1_score:\n",
        "            best_f1_score = val_f1\n",
        "            \n",
        "            checkpoint = {\n",
        "                'epoch': epoch + 1,\n",
        "                'model_state_dict': model.state_dict(),\n",
        "                'best_f1_score': best_f1_score,\n",
        "                'train_loss': train_losses,\n",
        "                'train_accuracy': train_accuracies,\n",
        "                'val_loss': val_losses,\n",
        "                'val_accuracy': val_accuracies,\n",
        "                'val_f1_score': val_f1_scores\n",
        "            }\n",
        "            \n",
        "            torch.save(checkpoint, checkpoint_path)\n",
        "            print(f\"Best model updated and saved at {checkpoint_path}\")\n",
        "            \n",
        "        plot_training_progress(train_losses, train_accuracies, os.path.join(logs_folder, \"plots\"))\n",
        "        plot_training_progress(val_losses, val_accuracies, os.path.join(logs_folder, \"plotsVal\"), val_f1_scores)\n",
        "        \n",
        "        gc.collect()"
      ]
    },
    {
      "cell_type": "code",
      "execution_count": null,
      "metadata": {
        "id": "_975kFY10BHX",
        "trusted": true
      },
      "outputs": [],
      "source": [
        "import gc\n",
        "del train_dataset\n",
        "del train_loader\n",
        "del full_dataset\n",
        "del val_dataset\n",
        "del val_loader\n",
        "gc.collect()"
      ]
    },
    {
      "cell_type": "code",
      "execution_count": null,
      "metadata": {
        "id": "xsXZIj4Mdu3I",
        "trusted": true
      },
      "outputs": [],
      "source": [
        "test_dataset = GraphDataset(args.test_path, transform=add_zeros)\n",
        "test_loader = DataLoader(test_dataset, batch_size=args.batch_size, shuffle=False)"
      ]
    },
    {
      "cell_type": "code",
      "execution_count": null,
      "metadata": {
        "id": "x1OnGq_nCmTr",
        "trusted": true
      },
      "outputs": [],
      "source": [
        "model.load_state_dict(torch.load(checkpoint_path))\n",
        "predictions = evaluate(test_loader, model, device, calculate_accuracy=False)\n",
        "save_predictions(predictions, args.test_path)"
      ]
    }
  ],
  "metadata": {
    "accelerator": "GPU",
    "colab": {
      "gpuType": "T4",
      "provenance": []
    },
    "kaggle": {
      "accelerator": "gpu",
      "dataSources": [],
      "dockerImageVersionId": 30919,
      "isGpuEnabled": true,
      "isInternetEnabled": true,
      "language": "python",
      "sourceType": "notebook"
    },
    "kernelspec": {
      "display_name": "Python 3 (ipykernel)",
      "language": "python",
      "name": "python3"
    },
    "language_info": {
      "codemirror_mode": {
        "name": "ipython",
        "version": 3
      },
      "file_extension": ".py",
      "mimetype": "text/x-python",
      "name": "python",
      "nbconvert_exporter": "python",
      "pygments_lexer": "ipython3",
      "version": "3.11.0rc2"
    }
  },
  "nbformat": 4,
  "nbformat_minor": 0
}
